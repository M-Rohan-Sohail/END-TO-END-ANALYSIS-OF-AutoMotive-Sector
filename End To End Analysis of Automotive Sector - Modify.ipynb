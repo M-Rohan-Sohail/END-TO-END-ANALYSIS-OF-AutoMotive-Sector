{
 "cells": [
  {
   "cell_type": "code",
   "execution_count": 1,
   "id": "f2390492",
   "metadata": {},
   "outputs": [],
   "source": [
    "import pandas as pd\n",
    "import matplotlib.pyplot as plt\n",
    "import seaborn as sns\n",
    "import numpy as np\n",
    "import plotly.express as px\n",
    "import dash\n",
    "from dash import html\n",
    "from dash import html, dcc"
   ]
  },
  {
   "cell_type": "code",
   "execution_count": 2,
   "id": "64b2b913",
   "metadata": {},
   "outputs": [],
   "source": [
    "df=pd.read_csv(\"historical_automobile_sales.csv\")"
   ]
  },
  {
   "cell_type": "code",
   "execution_count": 3,
   "id": "5fa8b767",
   "metadata": {},
   "outputs": [
    {
     "data": {
      "text/html": [
       "<div>\n",
       "<style scoped>\n",
       "    .dataframe tbody tr th:only-of-type {\n",
       "        vertical-align: middle;\n",
       "    }\n",
       "\n",
       "    .dataframe tbody tr th {\n",
       "        vertical-align: top;\n",
       "    }\n",
       "\n",
       "    .dataframe thead th {\n",
       "        text-align: right;\n",
       "    }\n",
       "</style>\n",
       "<table border=\"1\" class=\"dataframe\">\n",
       "  <thead>\n",
       "    <tr style=\"text-align: right;\">\n",
       "      <th></th>\n",
       "      <th>Date</th>\n",
       "      <th>Year</th>\n",
       "      <th>Month</th>\n",
       "      <th>Recession</th>\n",
       "      <th>Consumer_Confidence</th>\n",
       "      <th>Seasonality_Weight</th>\n",
       "      <th>Price</th>\n",
       "      <th>Advertising_Expenditure</th>\n",
       "      <th>Competition</th>\n",
       "      <th>GDP</th>\n",
       "      <th>Growth_Rate</th>\n",
       "      <th>unemployment_rate</th>\n",
       "      <th>Automobile_Sales</th>\n",
       "      <th>Vehicle_Type</th>\n",
       "      <th>City</th>\n",
       "    </tr>\n",
       "  </thead>\n",
       "  <tbody>\n",
       "    <tr>\n",
       "      <th>219</th>\n",
       "      <td>2/28/1994</td>\n",
       "      <td>1994</td>\n",
       "      <td>Feb</td>\n",
       "      <td>0</td>\n",
       "      <td>111.27</td>\n",
       "      <td>0.75</td>\n",
       "      <td>21231.319</td>\n",
       "      <td>1793</td>\n",
       "      <td>4</td>\n",
       "      <td>32.255</td>\n",
       "      <td>-0.532786</td>\n",
       "      <td>1.5</td>\n",
       "      <td>2851.8</td>\n",
       "      <td>Mediumfamilycar</td>\n",
       "      <td>Georgia</td>\n",
       "    </tr>\n",
       "    <tr>\n",
       "      <th>83</th>\n",
       "      <td>12/31/2001</td>\n",
       "      <td>2001</td>\n",
       "      <td>Dec</td>\n",
       "      <td>1</td>\n",
       "      <td>99.86</td>\n",
       "      <td>0.25</td>\n",
       "      <td>19878.062</td>\n",
       "      <td>4600</td>\n",
       "      <td>7</td>\n",
       "      <td>25.541</td>\n",
       "      <td>0.142124</td>\n",
       "      <td>5.4</td>\n",
       "      <td>691.9</td>\n",
       "      <td>Supperminicar</td>\n",
       "      <td>Georgia</td>\n",
       "    </tr>\n",
       "    <tr>\n",
       "      <th>280</th>\n",
       "      <td>3/31/1999</td>\n",
       "      <td>1999</td>\n",
       "      <td>Mar</td>\n",
       "      <td>0</td>\n",
       "      <td>106.32</td>\n",
       "      <td>1.50</td>\n",
       "      <td>21348.167</td>\n",
       "      <td>2205</td>\n",
       "      <td>3</td>\n",
       "      <td>63.558</td>\n",
       "      <td>-0.103606</td>\n",
       "      <td>2.0</td>\n",
       "      <td>4440.8</td>\n",
       "      <td>Mediumfamilycar</td>\n",
       "      <td>Illinois</td>\n",
       "    </tr>\n",
       "    <tr>\n",
       "      <th>350</th>\n",
       "      <td>2/28/2007</td>\n",
       "      <td>2007</td>\n",
       "      <td>Feb</td>\n",
       "      <td>0</td>\n",
       "      <td>84.87</td>\n",
       "      <td>0.75</td>\n",
       "      <td>18929.057</td>\n",
       "      <td>3637</td>\n",
       "      <td>4</td>\n",
       "      <td>60.551</td>\n",
       "      <td>0.145249</td>\n",
       "      <td>2.0</td>\n",
       "      <td>1754.6</td>\n",
       "      <td>Mediumfamilycar</td>\n",
       "      <td>Georgia</td>\n",
       "    </tr>\n",
       "    <tr>\n",
       "      <th>286</th>\n",
       "      <td>9/30/1999</td>\n",
       "      <td>1999</td>\n",
       "      <td>Sep</td>\n",
       "      <td>0</td>\n",
       "      <td>84.66</td>\n",
       "      <td>0.07</td>\n",
       "      <td>14874.287</td>\n",
       "      <td>3418</td>\n",
       "      <td>6</td>\n",
       "      <td>14.789</td>\n",
       "      <td>-1.394888</td>\n",
       "      <td>2.6</td>\n",
       "      <td>876.8</td>\n",
       "      <td>Supperminicar</td>\n",
       "      <td>New York</td>\n",
       "    </tr>\n",
       "  </tbody>\n",
       "</table>\n",
       "</div>"
      ],
      "text/plain": [
       "           Date  Year Month  Recession  Consumer_Confidence  \\\n",
       "219   2/28/1994  1994   Feb          0               111.27   \n",
       "83   12/31/2001  2001   Dec          1                99.86   \n",
       "280   3/31/1999  1999   Mar          0               106.32   \n",
       "350   2/28/2007  2007   Feb          0                84.87   \n",
       "286   9/30/1999  1999   Sep          0                84.66   \n",
       "\n",
       "     Seasonality_Weight      Price  Advertising_Expenditure  Competition  \\\n",
       "219                0.75  21231.319                     1793            4   \n",
       "83                 0.25  19878.062                     4600            7   \n",
       "280                1.50  21348.167                     2205            3   \n",
       "350                0.75  18929.057                     3637            4   \n",
       "286                0.07  14874.287                     3418            6   \n",
       "\n",
       "        GDP  Growth_Rate  unemployment_rate  Automobile_Sales  \\\n",
       "219  32.255    -0.532786                1.5            2851.8   \n",
       "83   25.541     0.142124                5.4             691.9   \n",
       "280  63.558    -0.103606                2.0            4440.8   \n",
       "350  60.551     0.145249                2.0            1754.6   \n",
       "286  14.789    -1.394888                2.6             876.8   \n",
       "\n",
       "        Vehicle_Type      City  \n",
       "219  Mediumfamilycar   Georgia  \n",
       "83     Supperminicar   Georgia  \n",
       "280  Mediumfamilycar  Illinois  \n",
       "350  Mediumfamilycar   Georgia  \n",
       "286    Supperminicar  New York  "
      ]
     },
     "execution_count": 3,
     "metadata": {},
     "output_type": "execute_result"
    }
   ],
   "source": [
    "df.sample(5)"
   ]
  },
  {
   "cell_type": "markdown",
   "id": "a49c91a1",
   "metadata": {},
   "source": [
    "Develop a Line chart using the functionality of pandas to show how automobile sales fluctuate from year to year"
   ]
  },
  {
   "cell_type": "code",
   "execution_count": 4,
   "id": "033cea35",
   "metadata": {},
   "outputs": [],
   "source": [
    "df_line=df.groupby(\"Year\")[\"Automobile_Sales\"].sum()"
   ]
  },
  {
   "cell_type": "code",
   "execution_count": 5,
   "id": "288862bb",
   "metadata": {},
   "outputs": [
    {
     "data": {
      "image/png": "[encoded data removed]",
      "text/plain": [
       "<Figure size 1500x500 with 1 Axes>"
      ]
     },
     "metadata": {},
     "output_type": "display_data"
    }
   ],
   "source": [
    "plt.figure(figsize=(15,5))\n",
    "df_line.plot(kind=\"line\")\n",
    "plt.title(\"Sales Over Year\")\n",
    "plt.xlabel(\"Years\")\n",
    "plt.ylabel(\"Sales (AVG)\")\n",
    "plt.show()"
   ]
  },
  {
   "cell_type": "markdown",
   "id": "5f166550",
   "metadata": {},
   "source": [
    "The Year 1992 2002 and 2009 was Recession Periods where sales Dipped Alot with average Sales low as 1000 in average"
   ]
  },
  {
   "cell_type": "code",
   "execution_count": 6,
   "id": "46c5ee78",
   "metadata": {},
   "outputs": [],
   "source": [
    "df[\"Period\"]=df[\"Recession\"].apply(lambda x: \"Non Recession\" if x==0 else \"Recession\")"
   ]
  },
  {
   "cell_type": "code",
   "execution_count": 7,
   "id": "d56546bc",
   "metadata": {},
   "outputs": [
    {
     "data": {
      "text/html": [
       "<div>\n",
       "<style scoped>\n",
       "    .dataframe tbody tr th:only-of-type {\n",
       "        vertical-align: middle;\n",
       "    }\n",
       "\n",
       "    .dataframe tbody tr th {\n",
       "        vertical-align: top;\n",
       "    }\n",
       "\n",
       "    .dataframe thead th {\n",
       "        text-align: right;\n",
       "    }\n",
       "</style>\n",
       "<table border=\"1\" class=\"dataframe\">\n",
       "  <thead>\n",
       "    <tr style=\"text-align: right;\">\n",
       "      <th></th>\n",
       "      <th>Year</th>\n",
       "      <th>Vehicle_Type</th>\n",
       "      <th>Automobile_Sales</th>\n",
       "    </tr>\n",
       "  </thead>\n",
       "  <tbody>\n",
       "    <tr>\n",
       "      <th>0</th>\n",
       "      <td>1980</td>\n",
       "      <td>Mediumfamilycar</td>\n",
       "      <td>2882.5</td>\n",
       "    </tr>\n",
       "    <tr>\n",
       "      <th>1</th>\n",
       "      <td>1980</td>\n",
       "      <td>Smallfamiliycar</td>\n",
       "      <td>2085.7</td>\n",
       "    </tr>\n",
       "    <tr>\n",
       "      <th>2</th>\n",
       "      <td>1980</td>\n",
       "      <td>Supperminicar</td>\n",
       "      <td>3179.2</td>\n",
       "    </tr>\n",
       "    <tr>\n",
       "      <th>3</th>\n",
       "      <td>1981</td>\n",
       "      <td>Mediumfamilycar</td>\n",
       "      <td>1885.2</td>\n",
       "    </tr>\n",
       "    <tr>\n",
       "      <th>4</th>\n",
       "      <td>1981</td>\n",
       "      <td>Smallfamiliycar</td>\n",
       "      <td>3192.1</td>\n",
       "    </tr>\n",
       "  </tbody>\n",
       "</table>\n",
       "</div>"
      ],
      "text/plain": [
       "   Year     Vehicle_Type  Automobile_Sales\n",
       "0  1980  Mediumfamilycar            2882.5\n",
       "1  1980  Smallfamiliycar            2085.7\n",
       "2  1980    Supperminicar            3179.2\n",
       "3  1981  Mediumfamilycar            1885.2\n",
       "4  1981  Smallfamiliycar            3192.1"
      ]
     },
     "execution_count": 7,
     "metadata": {},
     "output_type": "execute_result"
    }
   ],
   "source": [
    "df_sales_per_type=df.groupby([\"Year\",\"Vehicle_Type\"])[\"Automobile_Sales\"].sum()\n",
    "df__=df_sales_per_type.reset_index()\n",
    "df__.head(5)"
   ]
  },
  {
   "cell_type": "markdown",
   "id": "de40b612",
   "metadata": {},
   "source": [
    "Plot different lines for categories of vehicle type and analyse the trend to answer the question Is there a noticeable difference in sales trends between different vehicle types during recession periods?"
   ]
  },
  {
   "cell_type": "code",
   "execution_count": 8,
   "id": "8f634aac",
   "metadata": {},
   "outputs": [
    {
     "data": {
      "application/vnd.plotly.v1+json": {
       "config": {
        "plotlyServerURL": "https://plot.ly"
       },
       "data": [
        {
         "hovertemplate": "Vehicle_Type=Mediumfamilycar<br>Year=%{x}<br>Automobile_Sales=%{y}<extra></extra>",
         "legendgroup": "Mediumfamilycar",
         "line": {
          "color": "#636efa",
          "dash": "solid"
         },
         "marker": {
          "symbol": "circle"
         },
         "mode": "lines",
         "name": "Mediumfamilycar",
         "orientation": "v",
         "showlegend": true,
         "type": "scatter",
         "x": {
          "bdata": "vAe9B74HvwfAB8EHwgfDB8QHxQfGB8cHyAfJB8oHywfMB80HzgfPB9AH0QfSB9MH1AfVB9YH1wfYB9kH2gfbB9wH3QfeB98H4AfhB+IH4wfkB+UH5gc=",
          "dtype": "i2"
         },
         "xaxis": "x",
         "y": {
          "bdata": "AAAAAACFpkDMzMzMzHSdQGZmZmbmxrNAzczMzMwWyUCZmZmZ2QXIQDQzMzMzTLpAzczMzIwiwkBmZmZmZuaKQAAAAACAeMxAzczMzMzszUAzMzMzs9e2QGZmZmZmFalAmpmZmRkNs0BmZmZm5um+QAAAAACATsxAMzMzM/P13UBmZmZmJlPHQMzMzMzMhKFAMzMzM7PD0kDNzMzMDHLQQM3MzMxMg7NAAAAAAADxqkAzMzMzs962QGZmZmYGOtBAmpmZmRloyEBmZmZmpkPHQDQzMzOzvbdAmpmZmRlWwEAzMzMzM0i+QJmZmZmZzZ9AAAAAAIC9xEAAAAAAgKPAQAAAAACAYsVAzczMzExZsEBmZmZmJrDCQM3MzMxMd9BA16NwPYrRtUCZmZmZ2Q/RQDMzMzPzNcBAmpmZmVnCwUA0MzMzsxe5QDMzMzMzOLRAAAAAAIBMukA=",
          "dtype": "f8"
         },
         "yaxis": "y"
        },
        {
         "hovertemplate": "Vehicle_Type=Smallfamiliycar<br>Year=%{x}<br>Automobile_Sales=%{y}<extra></extra>",
         "legendgroup": "Smallfamiliycar",
         "line": {
          "color": "#EF553B",
          "dash": "solid"
         },
         "marker": {
          "symbol": "circle"
         },
         "mode": "lines",
         "name": "Smallfamiliycar",
         "orientation": "v",
         "showlegend": true,
         "type": "scatter",
         "x": {
          "bdata": "vAe9B74HvwfAB8EHwgfDB8QHxQfGB8cHyQfKB8sHzAfNB84HzwfQB9EH0gfTB9QH1QfWB9cH2AfZB9oH2wfcB90H3gffB+AH4QfiB+MH5AflB+YH5wc=",
          "dtype": "i2"
         },
         "xaxis": "x",
         "y": {
          "bdata": "ZmZmZmZLoEA0MzMzM/CoQM3MzMzM0aJAmpmZmZmms0DNzMzMzB+4QAAAAACANspAAAAAAABOpUCamZmZmbi4QAAAAACA+rFAZmZmZqaUxkDNzMzMzDSxQDMzMzMzX5dAzczMzMy/tEAAAAAAwFvEQGZmZmZmJqNAAAAAAADOtEAAAAAAgAXKQM3MzMzMFbNAMzMzMzPBqkDNzMzMTEu4QJqZmZmZS5ZAmpmZmZn0qUBmZmZmZsm2QGZmZmZmR65ANDMzM3OLwEAAAAAAAI+0QGZmZmZmzJVAZmZmZmanoECamZmZmeenQM3MzMzMQ7ZAAAAAAABos0CamZmZmejDQJqZmZlZ88FAmpmZmZnIuEAzMzMzM53BQGZmZmbmgLdAMzMzMzMOqUAAAAAAQPbOQDMzMzMzlchAZmZmZmaKsUAAAAAAgPzCQM3MzMzMiqRAAAAAAEDRxEA=",
          "dtype": "f8"
         },
         "yaxis": "y"
        },
        {
         "hovertemplate": "Vehicle_Type=Supperminicar<br>Year=%{x}<br>Automobile_Sales=%{y}<extra></extra>",
         "legendgroup": "Supperminicar",
         "line": {
          "color": "#00cc96",
          "dash": "solid"
         },
         "marker": {
          "symbol": "circle"
         },
         "mode": "lines",
         "name": "Supperminicar",
         "orientation": "v",
         "showlegend": true,
         "type": "scatter",
         "x": {
          "bdata": "vAe9B78HwAfCB8MHxAfFB8YHxwfIB8wHzQfOB88H0AfRB9IH0wfUB9UH2AfZB9oH2wfdB94H3wfgB+EH4gflB+cH",
          "dtype": "i2"
         },
         "xaxis": "x",
         "y": {
          "bdata": "ZmZmZmbWqEAzMzMzM7ejQJqZmZkZRbJAMzMzM/NvwEAAAAAAgFKwQGZmZmZmCp5AMzMzMzOkr0AzMzMzM7upQGZmZmZmlodAZmZmZmZQpEAzMzMzM7qnQDMzMzMz4aRAmpmZmZm4pECamZmZmZCuQGZmZmZmZotAzczMzMwVoEBmZmZmZsyqQAAAAAAAMpRAAAAAAABQlkDNzMzMzDymQGZmZmZmArNANDMzMzNLlkAzMzMzM2qjQGZmZmZmnpVAMzMzM7PIsEAAAAAAgEfGQAAAAAAA9sZAmpmZmRlauEAAAAAAAD+4QGZmZmZmhrtAzMzMzMwBs0CamZmZmbGxQJqZmZkZELlA",
          "dtype": "f8"
         },
         "yaxis": "y"
        },
        {
         "hovertemplate": "Vehicle_Type=Sports<br>Year=%{x}<br>Automobile_Sales=%{y}<extra></extra>",
         "legendgroup": "Sports",
         "line": {
          "color": "#ab63fa",
          "dash": "solid"
         },
         "marker": {
          "symbol": "circle"
         },
         "mode": "lines",
         "name": "Sports",
         "orientation": "v",
         "showlegend": true,
         "type": "scatter",
         "x": {
          "bdata": "vge/B8AHwQfCB8MHxAfFB8gHyQfKB8sHzAfNB84HzwfQB9IH0wfUB9UH1gfXB9gH2gfbB9wH3QfeB98H4AfhB+IH4wfkB+UH5gfnBw==",
          "dtype": "i2"
         },
         "xaxis": "x",
         "y": {
          "bdata": "AAAAAACAWUA0MzMzsz6/QAAAAAAApKNAZmZmZmacu0AAAAAAABLBQAAAAAAAy8ZAZmZmZuZpuEBmZmZmZi3BQGZmZmZmarNAMzMzMzP/pUAzMzMzM1mpQAAAAABAbsZAmpmZmZmxvUDMzMzMjDfGQM3MzMzMGKVAzczMzEzFwkAAAAAAAPCgQDQzMzMzK71AAAAAAIAVsECamZmZWaHBQGZmZmZmHa1AzczMzIyLyUBmZmZmprnAQGZmZmbmQ7BAZmZmZmaIw0DNzMzMjNfJQAAAAACAR7FAZmZmZmbGoEAAAAAAAMfIQAAAAAAAPJdAmpmZmRn6zkBmZmZmZmSTQJqZmZmZiKxANDMzMzNWqEDNzMzMzCK4QGZmZmamgM1AAAAAAID0sUAAAAAAgDjIQA==",
          "dtype": "f8"
         },
         "yaxis": "y"
        },
        {
         "hovertemplate": "Vehicle_Type=Executivecar<br>Year=%{x}<br>Automobile_Sales=%{y}<extra></extra>",
         "legendgroup": "Executivecar",
         "line": {
          "color": "#FFA15A",
          "dash": "solid"
         },
         "marker": {
          "symbol": "circle"
         },
         "mode": "lines",
         "name": "Executivecar",
         "orientation": "v",
         "showlegend": true,
         "type": "scatter",
         "x": {
          "bdata": "vwfAB8EHwgfDB8QHxwfIB8kHygfLB80HzgfSB9MH1AfVB9YH1wfbB9wH3QffB+EH4gfjB+QH5QfmB+cH",
          "dtype": "i2"
         },
         "xaxis": "x",
         "y": {
          "bdata": "MzMzMzMYsECamZmZmXW4QAAAAAAARsVAAAAAAAC2qEAAAAAAABS6QAAAAACA9rxAAAAAAACggUDNzMzMzOe6QJqZmZnZFsBAmpmZmZmBo0AAAAAAgEu7QDMzMzMzZK5AZmZmZmZptEDNzMzMzAurQM3MzMzMwatAzczMzMyiwkAAAAAAgAe/QAAAAAAAgLhAMzMzM7MhzEBnZmZmZmLBQGZmZmbmjL5AmpmZmZkppkCamZmZGeK5QDMzMzMz/5RAzMzMzMx4tUDNzMzMTA3BQM3MzMyM0MVAzMzMzMxYpkBmZmZmpqXEQGZmZmZmrphA",
          "dtype": "f8"
         },
         "yaxis": "y"
        }
       ],
       "layout": {
        "legend": {
         "title": {
          "text": "Vehicle_Type"
         },
         "tracegroupgap": 0
        },
        "template": {
         "data": {
          "bar": [
           {
            "error_x": {
             "color": "#2a3f5f"
            },
            "error_y": {
             "color": "#2a3f5f"
            },
            "marker": {
             "line": {
              "color": "#E5ECF6",
              "width": 0.5
             },
             "pattern": {
              "fillmode": "overlay",
              "size": 10,
              "solidity": 0.2
             }
            },
            "type": "bar"
           }
          ],
          "barpolar": [
           {
            "marker": {
             "line": {
              "color": "#E5ECF6",
              "width": 0.5
             },
             "pattern": {
              "fillmode": "overlay",
              "size": 10,
              "solidity": 0.2
             }
            },
            "type": "barpolar"
           }
          ],
          "carpet": [
           {
            "aaxis": {
             "endlinecolor": "#2a3f5f",
             "gridcolor": "white",
             "linecolor": "white",
             "minorgridcolor": "white",
             "startlinecolor": "#2a3f5f"
            },
            "baxis": {
             "endlinecolor": "#2a3f5f",
             "gridcolor": "white",
             "linecolor": "white",
             "minorgridcolor": "white",
             "startlinecolor": "#2a3f5f"
            },
            "type": "carpet"
           }
          ],
          "choropleth": [
           {
            "colorbar": {
             "outlinewidth": 0,
             "ticks": ""
            },
            "type": "choropleth"
           }
          ],
          "contour": [
           {
            "colorbar": {
             "outlinewidth": 0,
             "ticks": ""
            },
            "colorscale": [
             [
              0,
              "#0d0887"
             ],
             [
              0.1111111111111111,
              "#46039f"
             ],
             [
              0.2222222222222222,
              "#7201a8"
             ],
             [
              0.3333333333333333,
              "#9c179e"
             ],
             [
              0.4444444444444444,
              "#bd3786"
             ],
             [
              0.5555555555555556,
              "#d8576b"
             ],
             [
              0.6666666666666666,
              "#ed7953"
             ],
             [
              0.7777777777777778,
              "#fb9f3a"
             ],
             [
              0.8888888888888888,
              "#fdca26"
             ],
             [
              1,
              "#f0f921"
             ]
            ],
            "type": "contour"
           }
          ],
          "contourcarpet": [
           {
            "colorbar": {
             "outlinewidth": 0,
             "ticks": ""
            },
            "type": "contourcarpet"
           }
          ],
          "heatmap": [
           {
            "colorbar": {
             "outlinewidth": 0,
             "ticks": ""
            },
            "colorscale": [
             [
              0,
              "#0d0887"
             ],
             [
              0.1111111111111111,
              "#46039f"
             ],
             [
              0.2222222222222222,
              "#7201a8"
             ],
             [
              0.3333333333333333,
              "#9c179e"
             ],
             [
              0.4444444444444444,
              "#bd3786"
             ],
             [
              0.5555555555555556,
              "#d8576b"
             ],
             [
              0.6666666666666666,
              "#ed7953"
             ],
             [
              0.7777777777777778,
              "#fb9f3a"
             ],
             [
              0.8888888888888888,
              "#fdca26"
             ],
             [
              1,
              "#f0f921"
             ]
            ],
            "type": "heatmap"
           }
          ],
          "histogram": [
           {
            "marker": {
             "pattern": {
              "fillmode": "overlay",
              "size": 10,
              "solidity": 0.2
             }
            },
            "type": "histogram"
           }
          ],
          "histogram2d": [
           {
            "colorbar": {
             "outlinewidth": 0,
             "ticks": ""
            },
            "colorscale": [
             [
              0,
              "#0d0887"
             ],
             [
              0.1111111111111111,
              "#46039f"
             ],
             [
              0.2222222222222222,
              "#7201a8"
             ],
             [
              0.3333333333333333,
              "#9c179e"
             ],
             [
              0.4444444444444444,
              "#bd3786"
             ],
             [
              0.5555555555555556,
              "#d8576b"
             ],
             [
              0.6666666666666666,
              "#ed7953"
             ],
             [
              0.7777777777777778,
              "#fb9f3a"
             ],
             [
              0.8888888888888888,
              "#fdca26"
             ],
             [
              1,
              "#f0f921"
             ]
            ],
            "type": "histogram2d"
           }
          ],
          "histogram2dcontour": [
           {
            "colorbar": {
             "outlinewidth": 0,
             "ticks": ""
            },
            "colorscale": [
             [
              0,
              "#0d0887"
             ],
             [
              0.1111111111111111,
              "#46039f"
             ],
             [
              0.2222222222222222,
              "#7201a8"
             ],
             [
              0.3333333333333333,
              "#9c179e"
             ],
             [
              0.4444444444444444,
              "#bd3786"
             ],
             [
              0.5555555555555556,
              "#d8576b"
             ],
             [
              0.6666666666666666,
              "#ed7953"
             ],
             [
              0.7777777777777778,
              "#fb9f3a"
             ],
             [
              0.8888888888888888,
              "#fdca26"
             ],
             [
              1,
              "#f0f921"
             ]
            ],
            "type": "histogram2dcontour"
           }
          ],
          "mesh3d": [
           {
            "colorbar": {
             "outlinewidth": 0,
             "ticks": ""
            },
            "type": "mesh3d"
           }
          ],
          "parcoords": [
           {
            "line": {
             "colorbar": {
              "outlinewidth": 0,
              "ticks": ""
             }
            },
            "type": "parcoords"
           }
          ],
          "pie": [
           {
            "automargin": true,
            "type": "pie"
           }
          ],
          "scatter": [
           {
            "fillpattern": {
             "fillmode": "overlay",
             "size": 10,
             "solidity": 0.2
            },
            "type": "scatter"
           }
          ],
          "scatter3d": [
           {
            "line": {
             "colorbar": {
              "outlinewidth": 0,
              "ticks": ""
             }
            },
            "marker": {
             "colorbar": {
              "outlinewidth": 0,
              "ticks": ""
             }
            },
            "type": "scatter3d"
           }
          ],
          "scattercarpet": [
           {
            "marker": {
             "colorbar": {
              "outlinewidth": 0,
              "ticks": ""
             }
            },
            "type": "scattercarpet"
           }
          ],
          "scattergeo": [
           {
            "marker": {
             "colorbar": {
              "outlinewidth": 0,
              "ticks": ""
             }
            },
            "type": "scattergeo"
           }
          ],
          "scattergl": [
           {
            "marker": {
             "colorbar": {
              "outlinewidth": 0,
              "ticks": ""
             }
            },
            "type": "scattergl"
           }
          ],
          "scattermap": [
           {
            "marker": {
             "colorbar": {
              "outlinewidth": 0,
              "ticks": ""
             }
            },
            "type": "scattermap"
           }
          ],
          "scattermapbox": [
           {
            "marker": {
             "colorbar": {
              "outlinewidth": 0,
              "ticks": ""
             }
            },
            "type": "scattermapbox"
           }
          ],
          "scatterpolar": [
           {
            "marker": {
             "colorbar": {
              "outlinewidth": 0,
              "ticks": ""
             }
            },
            "type": "scatterpolar"
           }
          ],
          "scatterpolargl": [
           {
            "marker": {
             "colorbar": {
              "outlinewidth": 0,
              "ticks": ""
             }
            },
            "type": "scatterpolargl"
           }
          ],
          "scatterternary": [
           {
            "marker": {
             "colorbar": {
              "outlinewidth": 0,
              "ticks": ""
             }
            },
            "type": "scatterternary"
           }
          ],
          "surface": [
           {
            "colorbar": {
             "outlinewidth": 0,
             "ticks": ""
            },
            "colorscale": [
             [
              0,
              "#0d0887"
             ],
             [
              0.1111111111111111,
              "#46039f"
             ],
             [
              0.2222222222222222,
              "#7201a8"
             ],
             [
              0.3333333333333333,
              "#9c179e"
             ],
             [
              0.4444444444444444,
              "#bd3786"
             ],
             [
              0.5555555555555556,
              "#d8576b"
             ],
             [
              0.6666666666666666,
              "#ed7953"
             ],
             [
              0.7777777777777778,
              "#fb9f3a"
             ],
             [
              0.8888888888888888,
              "#fdca26"
             ],
             [
              1,
              "#f0f921"
             ]
            ],
            "type": "surface"
           }
          ],
          "table": [
           {
            "cells": {
             "fill": {
              "color": "#EBF0F8"
             },
             "line": {
              "color": "white"
             }
            },
            "header": {
             "fill": {
              "color": "#C8D4E3"
             },
             "line": {
              "color": "white"
             }
            },
            "type": "table"
           }
          ]
         },
         "layout": {
          "annotationdefaults": {
           "arrowcolor": "#2a3f5f",
           "arrowhead": 0,
           "arrowwidth": 1
          },
          "autotypenumbers": "strict",
          "coloraxis": {
           "colorbar": {
            "outlinewidth": 0,
            "ticks": ""
           }
          },
          "colorscale": {
           "diverging": [
            [
             0,
             "#8e0152"
            ],
            [
             0.1,
             "#c51b7d"
            ],
            [
             0.2,
             "#de77ae"
            ],
            [
             0.3,
             "#f1b6da"
            ],
            [
             0.4,
             "#fde0ef"
            ],
            [
             0.5,
             "#f7f7f7"
            ],
            [
             0.6,
             "#e6f5d0"
            ],
            [
             0.7,
             "#b8e186"
            ],
            [
             0.8,
             "#7fbc41"
            ],
            [
             0.9,
             "#4d9221"
            ],
            [
             1,
             "#276419"
            ]
           ],
           "sequential": [
            [
             0,
             "#0d0887"
            ],
            [
             0.1111111111111111,
             "#46039f"
            ],
            [
             0.2222222222222222,
             "#7201a8"
            ],
            [
             0.3333333333333333,
             "#9c179e"
            ],
            [
             0.4444444444444444,
             "#bd3786"
            ],
            [
             0.5555555555555556,
             "#d8576b"
            ],
            [
             0.6666666666666666,
             "#ed7953"
            ],
            [
             0.7777777777777778,
             "#fb9f3a"
            ],
            [
             0.8888888888888888,
             "#fdca26"
            ],
            [
             1,
             "#f0f921"
            ]
           ],
           "sequentialminus": [
            [
             0,
             "#0d0887"
            ],
            [
             0.1111111111111111,
             "#46039f"
            ],
            [
             0.2222222222222222,
             "#7201a8"
            ],
            [
             0.3333333333333333,
             "#9c179e"
            ],
            [
             0.4444444444444444,
             "#bd3786"
            ],
            [
             0.5555555555555556,
             "#d8576b"
            ],
            [
             0.6666666666666666,
             "#ed7953"
            ],
            [
             0.7777777777777778,
             "#fb9f3a"
            ],
            [
             0.8888888888888888,
             "#fdca26"
            ],
            [
             1,
             "#f0f921"
            ]
           ]
          },
          "colorway": [
           "#636efa",
           "#EF553B",
           "#00cc96",
           "#ab63fa",
           "#FFA15A",
           "#19d3f3",
           "#FF6692",
           "#B6E880",
           "#FF97FF",
           "#FECB52"
          ],
          "font": {
           "color": "#2a3f5f"
          },
          "geo": {
           "bgcolor": "white",
           "lakecolor": "white",
           "landcolor": "#E5ECF6",
           "showlakes": true,
           "showland": true,
           "subunitcolor": "white"
          },
          "hoverlabel": {
           "align": "left"
          },
          "hovermode": "closest",
          "mapbox": {
           "style": "light"
          },
          "paper_bgcolor": "white",
          "plot_bgcolor": "#E5ECF6",
          "polar": {
           "angularaxis": {
            "gridcolor": "white",
            "linecolor": "white",
            "ticks": ""
           },
           "bgcolor": "#E5ECF6",
           "radialaxis": {
            "gridcolor": "white",
            "linecolor": "white",
            "ticks": ""
           }
          },
          "scene": {
           "xaxis": {
            "backgroundcolor": "#E5ECF6",
            "gridcolor": "white",
            "gridwidth": 2,
            "linecolor": "white",
            "showbackground": true,
            "ticks": "",
            "zerolinecolor": "white"
           },
           "yaxis": {
            "backgroundcolor": "#E5ECF6",
            "gridcolor": "white",
            "gridwidth": 2,
            "linecolor": "white",
            "showbackground": true,
            "ticks": "",
            "zerolinecolor": "white"
           },
           "zaxis": {
            "backgroundcolor": "#E5ECF6",
            "gridcolor": "white",
            "gridwidth": 2,
            "linecolor": "white",
            "showbackground": true,
            "ticks": "",
            "zerolinecolor": "white"
           }
          },
          "shapedefaults": {
           "line": {
            "color": "#2a3f5f"
           }
          },
          "ternary": {
           "aaxis": {
            "gridcolor": "white",
            "linecolor": "white",
            "ticks": ""
           },
           "baxis": {
            "gridcolor": "white",
            "linecolor": "white",
            "ticks": ""
           },
           "bgcolor": "#E5ECF6",
           "caxis": {
            "gridcolor": "white",
            "linecolor": "white",
            "ticks": ""
           }
          },
          "title": {
           "x": 0.05
          },
          "xaxis": {
           "automargin": true,
           "gridcolor": "white",
           "linecolor": "white",
           "ticks": "",
           "title": {
            "standoff": 15
           },
           "zerolinecolor": "white",
           "zerolinewidth": 2
          },
          "yaxis": {
           "automargin": true,
           "gridcolor": "white",
           "linecolor": "white",
           "ticks": "",
           "title": {
            "standoff": 15
           },
           "zerolinecolor": "white",
           "zerolinewidth": 2
          }
         }
        },
        "title": {
         "text": "Vehicle Sales Trends by Type Over Years"
        },
        "xaxis": {
         "anchor": "y",
         "domain": [
          0,
          1
         ],
         "title": {
          "text": "Year"
         }
        },
        "yaxis": {
         "anchor": "x",
         "domain": [
          0,
          1
         ],
         "title": {
          "text": "Automobile_Sales"
         }
        }
       }
      }
     },
     "metadata": {},
     "output_type": "display_data"
    }
   ],
   "source": [
    "fig = px.line(df__, x='Year', y='Automobile_Sales', color='Vehicle_Type',\n",
    "              title='Vehicle Sales Trends by Type Over Years')\n",
    "fig.show()\n"
   ]
  },
  {
   "cell_type": "markdown",
   "id": "c9c11e0d",
   "metadata": {},
   "source": [
    "According to Graph   \n",
    "1. In 1991 Recession Period all car Sales Dropped except Medium Family Car Which Dropped Less    \n",
    "2. In 2001 Recession Period all car Sales Dropped  \n",
    "3. In 2009 Recession Period all car Sales Dropped except Executive Car Which Dropped Less"
   ]
  },
  {
   "cell_type": "markdown",
   "id": "42e66c21",
   "metadata": {},
   "source": [
    "Create a visualization to compare the sales trend per vehicle type for a recession period with a non-recession period."
   ]
  },
  {
   "cell_type": "code",
   "execution_count": 9,
   "id": "227f4fc3",
   "metadata": {},
   "outputs": [
    {
     "data": {
      "image/png": "[encoded data removed]",
      "text/plain": [
       "<Figure size 1200x800 with 1 Axes>"
      ]
     },
     "metadata": {},
     "output_type": "display_data"
    }
   ],
   "source": [
    "grouped_df = df.groupby(['Period', 'Vehicle_Type'])['Automobile_Sales'].mean().reset_index()\n",
    "\n",
    "plt.figure(figsize=(12,8))\n",
    "sns.barplot(\n",
    "    data=grouped_df,\n",
    "    x=\"Period\",              \n",
    "    y=\"Automobile_Sales\",\n",
    "    hue=\"Vehicle_Type\",        \n",
    "    errorbar=None\n",
    ")\n",
    "\n",
    "plt.title('Automobile Sales: Recession vs Non-Recession by Vehicle Type', fontsize=16)\n",
    "plt.xlabel('Period', fontsize=14)\n",
    "plt.ylabel('Average Automobile Sales', fontsize=14)\n",
    "plt.tight_layout()\n",
    "plt.legend(title='Vehicle Type')\n",
    "plt.show()"
   ]
  },
  {
   "cell_type": "markdown",
   "id": "ee73e94a",
   "metadata": {},
   "source": [
    "AS THE ABOVE BAR CHART SHOWS IN RECESSION PERIODS CAR SALES WAS BELOW 1000"
   ]
  },
  {
   "cell_type": "code",
   "execution_count": 10,
   "id": "764b2a6d",
   "metadata": {},
   "outputs": [],
   "source": [
    "df_gdp_rnr=df.groupby([\"Year\",\"Period\"])[\"GDP\"].sum().reset_index()"
   ]
  },
  {
   "cell_type": "code",
   "execution_count": 11,
   "id": "c4e379ad",
   "metadata": {},
   "outputs": [
    {
     "name": "stdout",
     "output_type": "stream",
     "text": [
      "    Year         Period      GDP\n",
      "40  2014  Non Recession  403.741\n",
      "14  1992  Non Recession  434.089\n",
      "49  2022  Non Recession  452.450\n",
      "24  2000      Recession  356.293\n",
      "38  2012  Non Recession  533.722\n"
     ]
    }
   ],
   "source": [
    "print(df_gdp_rnr.sample(5))"
   ]
  },
  {
   "cell_type": "code",
   "execution_count": 12,
   "id": "9d365782",
   "metadata": {},
   "outputs": [],
   "source": [
    "df_gdp_r=df_gdp_rnr[df_gdp_rnr[\"Period\"]==\"Recession\"]\n",
    "df_gdp_nr=df_gdp_rnr[df_gdp_rnr[\"Period\"]==\"Non Recession\"]"
   ]
  },
  {
   "cell_type": "markdown",
   "id": "08d67f91",
   "metadata": {},
   "source": [
    "Use sub plotting to compare the variations in GDP during recession and non-recession period by developing line plots for each period"
   ]
  },
  {
   "cell_type": "code",
   "execution_count": 13,
   "id": "03dea410",
   "metadata": {},
   "outputs": [
    {
     "data": {
      "image/png": "[encoded data removed]",
      "text/plain": [
       "<Figure size 1500x500 with 2 Axes>"
      ]
     },
     "metadata": {},
     "output_type": "display_data"
    }
   ],
   "source": [
    "fig,axes=plt.subplots(1,2,figsize=(15,5),sharey=True)\n",
    "\n",
    "\n",
    "axes[0].plot(df_gdp_r[\"Year\"],df_gdp_r[\"GDP\"],color=\"red\",marker=\"o\")\n",
    "axes[0].set_title(\"GDP during Recession\")\n",
    "axes[0].set_xlabel(\"Year\")\n",
    "axes[0].set_ylabel(\"GDP\")\n",
    "\n",
    "\n",
    "axes[1].plot(df_gdp_nr[\"Year\"],df_gdp_nr[\"GDP\"],color=\"red\",marker=\"o\")\n",
    "axes[1].set_title(\"GDP during Non Recession\")\n",
    "axes[1].set_xlabel(\"Year\")\n",
    "axes[1].set_ylabel(\"GDP\")\n",
    "\n",
    "plt.suptitle(\"GDP RECESSION VS NON RECESSION\")\n",
    "\n",
    "plt.tight_layout(rect=[0, 0, 1, 0.95])\n",
    "plt.show()"
   ]
  },
  {
   "cell_type": "markdown",
   "id": "509392b6",
   "metadata": {},
   "source": [
    "GDP dipped so Much in 1983 going Below 25 Million USD Dollars"
   ]
  },
  {
   "cell_type": "markdown",
   "id": "2be8dfe1",
   "metadata": {},
   "source": [
    "The GPD during RECESSIION clearly varify the Dip of Sales in that period"
   ]
  },
  {
   "cell_type": "code",
   "execution_count": 14,
   "id": "7f595807",
   "metadata": {},
   "outputs": [],
   "source": [
    "df_buble_season=df.groupby([\"Year\",\"Month\"])[\"Automobile_Sales\"].sum().reset_index()"
   ]
  },
  {
   "cell_type": "markdown",
   "id": "e6fbe336",
   "metadata": {},
   "source": [
    "Develop a Bubble plot for displaying the impact of seasonality on Automobile Sales."
   ]
  },
  {
   "cell_type": "code",
   "execution_count": 15,
   "id": "ba0b58d6",
   "metadata": {},
   "outputs": [
    {
     "data": {
      "application/vnd.plotly.v1+json": {
       "config": {
        "plotlyServerURL": "https://plot.ly"
       },
       "data": [
        {
         "hovertemplate": "<b>%{hovertext}</b><br><br>Month=%{x}<br>Automobile_Sales=%{marker.size}<extra></extra>",
         "hovertext": [
          "Apr",
          "Apr",
          "Apr",
          "Apr",
          "Apr",
          "Apr",
          "Apr",
          "Apr",
          "Apr",
          "Apr",
          "Apr",
          "Apr",
          "Apr",
          "Apr",
          "Apr",
          "Apr",
          "Apr",
          "Apr",
          "Apr",
          "Apr",
          "Apr",
          "Apr",
          "Apr",
          "Apr",
          "Apr",
          "Apr",
          "Apr",
          "Apr",
          "Apr",
          "Apr",
          "Apr",
          "Apr",
          "Apr",
          "Apr",
          "Apr",
          "Apr",
          "Apr",
          "Apr",
          "Apr",
          "Apr",
          "Apr",
          "Apr",
          "Apr",
          "Apr"
         ],
         "legendgroup": "Apr",
         "marker": {
          "color": "#636efa",
          "size": {
           "bdata": "ZmZmZmb2hUDNzMzMzIiEQGZmZmZmSoNAzczMzMxQqUAAAAAAAKSjQAAAAAAAWqZAzczMzMwElUBmZmZmZuaKQAAAAAAAp6BAzczMzMxYj0BmZmZmZlaGQAAAAAAAoIFAzczMzMwkiUCamZmZmSGmQGZmZmZmkplAAAAAAMCm1EBmZmZmZkWsQGZmZmZmyJlAzczMzMzso0CamZmZmcehQGZmZmZmdodAzczMzMz0hEBmZmZmZuKCQJqZmZmZpZdAzczMzMw8pkDNzMzMzPSqQDMzMzMzAqNAZmZmZmbemkAzMzMzM+uEQGZmZmZmzoNAmpmZmZlhjUAzMzMzM/WeQAAAAACAR7FAzczMzMxyr0CamZmZmc+nQM3MzMxMOrJAmpmZmZkLpEBmZmZmZlOqQGZmZmbmqrBAmpmZmZmVoEAAAAAAAAKQQGZmZmbmArNAmpmZmZn5ikBmZmZmZtybQA==",
           "dtype": "f8"
          },
          "sizemode": "area",
          "sizeref": 5.8741666666666665,
          "symbol": "circle"
         },
         "mode": "markers",
         "name": "Apr",
         "orientation": "v",
         "showlegend": true,
         "type": "scatter",
         "x": [
          "Apr",
          "Apr",
          "Apr",
          "Apr",
          "Apr",
          "Apr",
          "Apr",
          "Apr",
          "Apr",
          "Apr",
          "Apr",
          "Apr",
          "Apr",
          "Apr",
          "Apr",
          "Apr",
          "Apr",
          "Apr",
          "Apr",
          "Apr",
          "Apr",
          "Apr",
          "Apr",
          "Apr",
          "Apr",
          "Apr",
          "Apr",
          "Apr",
          "Apr",
          "Apr",
          "Apr",
          "Apr",
          "Apr",
          "Apr",
          "Apr",
          "Apr",
          "Apr",
          "Apr",
          "Apr",
          "Apr",
          "Apr",
          "Apr",
          "Apr",
          "Apr"
         ],
         "xaxis": "x",
         "y": {
          "bdata": "ZmZmZmb2hUDNzMzMzIiEQGZmZmZmSoNAzczMzMxQqUAAAAAAAKSjQAAAAAAAWqZAzczMzMwElUBmZmZmZuaKQAAAAAAAp6BAzczMzMxYj0BmZmZmZlaGQAAAAAAAoIFAzczMzMwkiUCamZmZmSGmQGZmZmZmkplAAAAAAMCm1EBmZmZmZkWsQGZmZmZmyJlAzczMzMzso0CamZmZmcehQGZmZmZmdodAzczMzMz0hEBmZmZmZuKCQJqZmZmZpZdAzczMzMw8pkDNzMzMzPSqQDMzMzMzAqNAZmZmZmbemkAzMzMzM+uEQGZmZmZmzoNAmpmZmZlhjUAzMzMzM/WeQAAAAACAR7FAzczMzMxyr0CamZmZmc+nQM3MzMxMOrJAmpmZmZkLpEBmZmZmZlOqQGZmZmbmqrBAmpmZmZmVoEAAAAAAAAKQQGZmZmbmArNAmpmZmZn5ikBmZmZmZtybQA==",
          "dtype": "f8"
         },
         "yaxis": "y"
        },
        {
         "hovertemplate": "<b>%{hovertext}</b><br><br>Month=%{x}<br>Automobile_Sales=%{marker.size}<extra></extra>",
         "hovertext": [
          "Aug",
          "Aug",
          "Aug",
          "Aug",
          "Aug",
          "Aug",
          "Aug",
          "Aug",
          "Aug",
          "Aug",
          "Aug",
          "Aug",
          "Aug",
          "Aug",
          "Aug",
          "Aug",
          "Aug",
          "Aug",
          "Aug",
          "Aug",
          "Aug",
          "Aug",
          "Aug",
          "Aug",
          "Aug",
          "Aug",
          "Aug",
          "Aug",
          "Aug",
          "Aug",
          "Aug",
          "Aug",
          "Aug",
          "Aug",
          "Aug",
          "Aug",
          "Aug",
          "Aug",
          "Aug",
          "Aug",
          "Aug",
          "Aug",
          "Aug",
          "Aug"
         ],
         "legendgroup": "Aug",
         "marker": {
          "color": "#EF553B",
          "size": {
           "bdata": "MzMzMzP3hkAAAAAAAFyIQGZmZmZmQoFAMzMzMzMYsEBmZmZmZoqoQDMzMzMzn6NAmpmZmZk1skDNzMzMTECwQM3MzMzM5p1AzczMzMwAlkAzMzMzMzeBQAAAAAAAvIdAMzMzMzP9lECamZmZmQ2UQM3MzMzMyJdAAAAAAIA6sUBmZmZmZrqWQM3MzMzMW61AAAAAAABypEAzMzMzM8GqQAAAAAAAkIVAMzMzMzPbhkAzMzMzM6eKQAAAAAAAEq9AzczMzMwCrkAzMzMzM2mTQAAAAAAAzItAMzMzMzM/m0DNzMzMzPSFQM3MzMzMLINAmpmZmZlxhUCamZmZmcGxQAAAAAAAA7FAAAAAAACmmEBmZmZmZmuoQAAAAAAAPJdAzczMzEx2skAzMzMzMw+kQAAAAAAAN6VAmpmZmZnZjEAzMzMzs2yzQGZmZmZmzp9AZmZmZmYum0BmZmZmZq6YQA==",
           "dtype": "f8"
          },
          "sizemode": "area",
          "sizeref": 5.8741666666666665,
          "symbol": "circle"
         },
         "mode": "markers",
         "name": "Aug",
         "orientation": "v",
         "showlegend": true,
         "type": "scatter",
         "x": [
          "Aug",
          "Aug",
          "Aug",
          "Aug",
          "Aug",
          "Aug",
          "Aug",
          "Aug",
          "Aug",
          "Aug",
          "Aug",
          "Aug",
          "Aug",
          "Aug",
          "Aug",
          "Aug",
          "Aug",
          "Aug",
          "Aug",
          "Aug",
          "Aug",
          "Aug",
          "Aug",
          "Aug",
          "Aug",
          "Aug",
          "Aug",
          "Aug",
          "Aug",
          "Aug",
          "Aug",
          "Aug",
          "Aug",
          "Aug",
          "Aug",
          "Aug",
          "Aug",
          "Aug",
          "Aug",
          "Aug",
          "Aug",
          "Aug",
          "Aug",
          "Aug"
         ],
         "xaxis": "x",
         "y": {
          "bdata": "MzMzMzP3hkAAAAAAAFyIQGZmZmZmQoFAMzMzMzMYsEBmZmZmZoqoQDMzMzMzn6NAmpmZmZk1skDNzMzMTECwQM3MzMzM5p1AzczMzMwAlkAzMzMzMzeBQAAAAAAAvIdAMzMzMzP9lECamZmZmQ2UQM3MzMzMyJdAAAAAAIA6sUBmZmZmZrqWQM3MzMzMW61AAAAAAABypEAzMzMzM8GqQAAAAAAAkIVAMzMzMzPbhkAzMzMzM6eKQAAAAAAAEq9AzczMzMwCrkAzMzMzM2mTQAAAAAAAzItAMzMzMzM/m0DNzMzMzPSFQM3MzMzMLINAmpmZmZlxhUCamZmZmcGxQAAAAAAAA7FAAAAAAACmmEBmZmZmZmuoQAAAAAAAPJdAzczMzEx2skAzMzMzMw+kQAAAAAAAN6VAmpmZmZnZjEAzMzMzs2yzQGZmZmZmzp9AZmZmZmYum0BmZmZmZq6YQA==",
          "dtype": "f8"
         },
         "yaxis": "y"
        },
        {
         "hovertemplate": "<b>%{hovertext}</b><br><br>Month=%{x}<br>Automobile_Sales=%{marker.size}<extra></extra>",
         "hovertext": [
          "Dec",
          "Dec",
          "Dec",
          "Dec",
          "Dec",
          "Dec",
          "Dec",
          "Dec",
          "Dec",
          "Dec",
          "Dec",
          "Dec",
          "Dec",
          "Dec",
          "Dec",
          "Dec",
          "Dec",
          "Dec",
          "Dec",
          "Dec",
          "Dec",
          "Dec",
          "Dec",
          "Dec",
          "Dec",
          "Dec",
          "Dec",
          "Dec",
          "Dec",
          "Dec",
          "Dec",
          "Dec",
          "Dec",
          "Dec",
          "Dec",
          "Dec",
          "Dec",
          "Dec",
          "Dec",
          "Dec",
          "Dec",
          "Dec",
          "Dec",
          "Dec"
         ],
         "legendgroup": "Dec",
         "marker": {
          "color": "#00cc96",
          "size": {
           "bdata": "AAAAAABIh0AAAAAAANCHQM3MzMzMRIdAzczMzMxylkAzMzMzs6ixQGZmZmZmb7BAAAAAAAD+qkBmZmZmZgqeQDMzMzMzkaBAzczMzEwGsUAAAAAAAJiGQGZmZmZmAodAmpmZmZkFlEAzMzMzM7uPQJqZmZmZsaJAZmZmZmZGqUAAAAAAAMOvQM3MzMzMwbBAMzMzMzPFsUCamZmZmU6jQM3MzMzMFIZAMzMzMzOfhUDNzMzMzAurQM3MzMzMg6hAZmZmZmZHrkCamZmZmZWWQGZmZmZmJKtAzczMzMzqqEAAAAAAAOCEQAAAAAAAlIJAAAAAAABwmUCamZmZmdOZQAAAAAAAiaJAmpmZmZm0rkBmZmZmZs2sQDMzMzMzFbBAZmZmZmZyrEAzMzMzM8eDQGZmZmZmxJtAZmZmZmYgq0AzMzMzM/OEQM3MzMzM6rBAAAAAAIABs0AAAAAAAKWrQA==",
           "dtype": "f8"
          },
          "sizemode": "area",
          "sizeref": 5.8741666666666665,
          "symbol": "circle"
         },
         "mode": "markers",
         "name": "Dec",
         "orientation": "v",
         "showlegend": true,
         "type": "scatter",
         "x": [
          "Dec",
          "Dec",
          "Dec",
          "Dec",
          "Dec",
          "Dec",
          "Dec",
          "Dec",
          "Dec",
          "Dec",
          "Dec",
          "Dec",
          "Dec",
          "Dec",
          "Dec",
          "Dec",
          "Dec",
          "Dec",
          "Dec",
          "Dec",
          "Dec",
          "Dec",
          "Dec",
          "Dec",
          "Dec",
          "Dec",
          "Dec",
          "Dec",
          "Dec",
          "Dec",
          "Dec",
          "Dec",
          "Dec",
          "Dec",
          "Dec",
          "Dec",
          "Dec",
          "Dec",
          "Dec",
          "Dec",
          "Dec",
          "Dec",
          "Dec",
          "Dec"
         ],
         "xaxis": "x",
         "y": {
          "bdata": "AAAAAABIh0AAAAAAANCHQM3MzMzMRIdAzczMzMxylkAzMzMzs6ixQGZmZmZmb7BAAAAAAAD+qkBmZmZmZgqeQDMzMzMzkaBAzczMzEwGsUAAAAAAAJiGQGZmZmZmAodAmpmZmZkFlEAzMzMzM7uPQJqZmZmZsaJAZmZmZmZGqUAAAAAAAMOvQM3MzMzMwbBAMzMzMzPFsUCamZmZmU6jQM3MzMzMFIZAMzMzMzOfhUDNzMzMzAurQM3MzMzMg6hAZmZmZmZHrkCamZmZmZWWQGZmZmZmJKtAzczMzMzqqEAAAAAAAOCEQAAAAAAAlIJAAAAAAABwmUCamZmZmdOZQAAAAAAAiaJAmpmZmZm0rkBmZmZmZs2sQDMzMzMzFbBAZmZmZmZyrEAzMzMzM8eDQGZmZmZmxJtAZmZmZmYgq0AzMzMzM/OEQM3MzMzM6rBAAAAAAIABs0AAAAAAAKWrQA==",
          "dtype": "f8"
         },
         "yaxis": "y"
        },
        {
         "hovertemplate": "<b>%{hovertext}</b><br><br>Month=%{x}<br>Automobile_Sales=%{marker.size}<extra></extra>",
         "hovertext": [
          "Feb",
          "Feb",
          "Feb",
          "Feb",
          "Feb",
          "Feb",
          "Feb",
          "Feb",
          "Feb",
          "Feb",
          "Feb",
          "Feb",
          "Feb",
          "Feb",
          "Feb",
          "Feb",
          "Feb",
          "Feb",
          "Feb",
          "Feb",
          "Feb",
          "Feb",
          "Feb",
          "Feb",
          "Feb",
          "Feb",
          "Feb",
          "Feb",
          "Feb",
          "Feb",
          "Feb",
          "Feb",
          "Feb",
          "Feb",
          "Feb",
          "Feb",
          "Feb",
          "Feb",
          "Feb",
          "Feb",
          "Feb",
          "Feb",
          "Feb",
          "Feb"
         ],
         "legendgroup": "Feb",
         "marker": {
          "color": "#ab63fa",
          "size": {
           "bdata": "MzMzMzNfgUBmZmZmZvKBQDMzMzMzM4NAMzMzMzOurUBmZmZmZgiuQDMzMzMzk69AZmZmZmaro0DNzMzMzJ6TQDMzMzMzIqZAzczMzMxzskBmZmZmZpaHQM3MzMzMoIZAzczMzMxwhUAAAAAAADKtQJqZmZmZR6ZAAAAAAAAIp0DNzMzMzPCfQJqZmZmZuKRAMzMzMzOxn0CamZmZmWmKQAAAAAAAqadAZmZmZmaih0CamZmZmYGFQM3MzMzMSIJAAAAAAABXrkDNzMzMzJSuQAAAAAAATplAZmZmZmZqm0BmZmZmZjqrQGZmZmZmpoFAzczMzMynrkAAAAAAAIiGQDMzMzMzc4pAAAAAAAA8hEDNzMzMTKawQAAAAAAAbphAmpmZmZnXqEAAAAAAAKabQGZmZmZmaqlAMzMzMzN/qECamZmZGRmxQJqZmZmZsbFAzczMzMzsjEAAAAAAAOqyQA==",
           "dtype": "f8"
          },
          "sizemode": "area",
          "sizeref": 5.8741666666666665,
          "symbol": "circle"
         },
         "mode": "markers",
         "name": "Feb",
         "orientation": "v",
         "showlegend": true,
         "type": "scatter",
         "x": [
          "Feb",
          "Feb",
          "Feb",
          "Feb",
          "Feb",
          "Feb",
          "Feb",
          "Feb",
          "Feb",
          "Feb",
          "Feb",
          "Feb",
          "Feb",
          "Feb",
          "Feb",
          "Feb",
          "Feb",
          "Feb",
          "Feb",
          "Feb",
          "Feb",
          "Feb",
          "Feb",
          "Feb",
          "Feb",
          "Feb",
          "Feb",
          "Feb",
          "Feb",
          "Feb",
          "Feb",
          "Feb",
          "Feb",
          "Feb",
          "Feb",
          "Feb",
          "Feb",
          "Feb",
          "Feb",
          "Feb",
          "Feb",
          "Feb",
          "Feb",
          "Feb"
         ],
         "xaxis": "x",
         "y": {
          "bdata": "MzMzMzNfgUBmZmZmZvKBQDMzMzMzM4NAMzMzMzOurUBmZmZmZgiuQDMzMzMzk69AZmZmZmaro0DNzMzMzJ6TQDMzMzMzIqZAzczMzMxzskBmZmZmZpaHQM3MzMzMoIZAzczMzMxwhUAAAAAAADKtQJqZmZmZR6ZAAAAAAAAIp0DNzMzMzPCfQJqZmZmZuKRAMzMzMzOxn0CamZmZmWmKQAAAAAAAqadAZmZmZmaih0CamZmZmYGFQM3MzMzMSIJAAAAAAABXrkDNzMzMzJSuQAAAAAAATplAZmZmZmZqm0BmZmZmZjqrQGZmZmZmpoFAzczMzMynrkAAAAAAAIiGQDMzMzMzc4pAAAAAAAA8hEDNzMzMTKawQAAAAAAAbphAmpmZmZnXqEAAAAAAAKabQGZmZmZmaqlAMzMzMzN/qECamZmZGRmxQJqZmZmZsbFAzczMzMzsjEAAAAAAAOqyQA==",
          "dtype": "f8"
         },
         "yaxis": "y"
        },
        {
         "hovertemplate": "<b>%{hovertext}</b><br><br>Month=%{x}<br>Automobile_Sales=%{marker.size}<extra></extra>",
         "hovertext": [
          "Jan",
          "Jan",
          "Jan",
          "Jan",
          "Jan",
          "Jan",
          "Jan",
          "Jan",
          "Jan",
          "Jan",
          "Jan",
          "Jan",
          "Jan",
          "Jan",
          "Jan",
          "Jan",
          "Jan",
          "Jan",
          "Jan",
          "Jan",
          "Jan",
          "Jan",
          "Jan",
          "Jan",
          "Jan",
          "Jan",
          "Jan",
          "Jan",
          "Jan",
          "Jan",
          "Jan",
          "Jan",
          "Jan",
          "Jan",
          "Jan",
          "Jan",
          "Jan",
          "Jan",
          "Jan",
          "Jan",
          "Jan",
          "Jan",
          "Jan",
          "Jan"
         ],
         "legendgroup": "Jan",
         "marker": {
          "color": "#FFA15A",
          "size": {
           "bdata": "AAAAAACAfEAAAAAAAFB0QAAAAAAAIH1AAAAAAABogkBmZmZmZqmpQDMzMzMzYqtAMzMzMzPVnEDNzMzMzJqaQGZmZmZm5JlAAAAAAADPpUAAAAAAADmuQM3MzMzMWINAmpmZmZlhgUBmZmZmZmaBQGZmZmZm+pdAZmZmZmYmo0AAAAAAALCQQDMzMzMzs4pAzczMzMwYpUAzMzMzM6uWQAAAAACAbLNAAAAAAABEh0DNzMzMzMyFQJqZmZmZ2axAMzMzMzNjr0DNzMzMzOGxQJqZmZmZUZ5AzczMzMzhr0DNzMzMzOiaQGZmZmZm0oVAMzMzMzNAr0DNzMzMzJmnQJqZmZmZRahAzczMzMyUkUBmZmZmZoaGQAAAAAAAxqFAzczMzMwRrUAAAAAAAMSqQM3MzMzMSa9AzczMzMwbskDNzMzMzDSXQJqZmZmZSYVAzczMzMxlskAAAAAAAJquQA==",
           "dtype": "f8"
          },
          "sizemode": "area",
          "sizeref": 5.8741666666666665,
          "symbol": "circle"
         },
         "mode": "markers",
         "name": "Jan",
         "orientation": "v",
         "showlegend": true,
         "type": "scatter",
         "x": [
          "Jan",
          "Jan",
          "Jan",
          "Jan",
          "Jan",
          "Jan",
          "Jan",
          "Jan",
          "Jan",
          "Jan",
          "Jan",
          "Jan",
          "Jan",
          "Jan",
          "Jan",
          "Jan",
          "Jan",
          "Jan",
          "Jan",
          "Jan",
          "Jan",
          "Jan",
          "Jan",
          "Jan",
          "Jan",
          "Jan",
          "Jan",
          "Jan",
          "Jan",
          "Jan",
          "Jan",
          "Jan",
          "Jan",
          "Jan",
          "Jan",
          "Jan",
          "Jan",
          "Jan",
          "Jan",
          "Jan",
          "Jan",
          "Jan",
          "Jan",
          "Jan"
         ],
         "xaxis": "x",
         "y": {
          "bdata": "AAAAAACAfEAAAAAAAFB0QAAAAAAAIH1AAAAAAABogkBmZmZmZqmpQDMzMzMzYqtAMzMzMzPVnEDNzMzMzJqaQGZmZmZm5JlAAAAAAADPpUAAAAAAADmuQM3MzMzMWINAmpmZmZlhgUBmZmZmZmaBQGZmZmZm+pdAZmZmZmYmo0AAAAAAALCQQDMzMzMzs4pAzczMzMwYpUAzMzMzM6uWQAAAAACAbLNAAAAAAABEh0DNzMzMzMyFQJqZmZmZ2axAMzMzMzNjr0DNzMzMzOGxQJqZmZmZUZ5AzczMzMzhr0DNzMzMzOiaQGZmZmZm0oVAMzMzMzNAr0DNzMzMzJmnQJqZmZmZRahAzczMzMyUkUBmZmZmZoaGQAAAAAAAxqFAzczMzMwRrUAAAAAAAMSqQM3MzMzMSa9AzczMzMwbskDNzMzMzDSXQJqZmZmZSYVAzczMzMxlskAAAAAAAJquQA==",
          "dtype": "f8"
         },
         "yaxis": "y"
        },
        {
         "hovertemplate": "<b>%{hovertext}</b><br><br>Month=%{x}<br>Automobile_Sales=%{marker.size}<extra></extra>",
         "hovertext": [
          "Jul",
          "Jul",
          "Jul",
          "Jul",
          "Jul",
          "Jul",
          "Jul",
          "Jul",
          "Jul",
          "Jul",
          "Jul",
          "Jul",
          "Jul",
          "Jul",
          "Jul",
          "Jul",
          "Jul",
          "Jul",
          "Jul",
          "Jul",
          "Jul",
          "Jul",
          "Jul",
          "Jul",
          "Jul",
          "Jul",
          "Jul",
          "Jul",
          "Jul",
          "Jul",
          "Jul",
          "Jul",
          "Jul",
          "Jul",
          "Jul",
          "Jul",
          "Jul",
          "Jul",
          "Jul",
          "Jul",
          "Jul",
          "Jul",
          "Jul",
          "Jul"
         ],
         "legendgroup": "Jul",
         "marker": {
          "color": "#19d3f3",
          "size": {
           "bdata": "zczMzMzMhkCamZmZmfGDQGZmZmZmFodAAAAAAACoekBmZmZmZhmyQJqZmZmZGqNAAAAAAABOpUCamZmZGWyxQDMzMzMzpK9AzczMzMy4pUBmZmZmZuqCQM3MzMzMhIVAAAAAAACiq0AzMzMzM8eDQM3MzMzMzJhAzczMzMyPokCamZmZGaqxQGZmZmZmgoJAZmZmZuZvsUBmZmZmZlqKQAAAAAAASIdAAAAAAABYhEDNzMzMzDGhQAAAAACAFbBAAAAAAADKqUDNzMzMzDOqQDMzMzMzl5VAmpmZmZkPn0DNzMzMzLyEQJqZmZmZKYJAmpmZmZlEo0AzMzMzMx2fQDMzMzMzH7BAmpmZmZn2qkBmZmZmZqCoQJqZmZmZkqZAAAAAAAA3oUBmZmZmZrmsQM3MzMzM26ZAmpmZmZn0okDNzMzMTA2wQGZmZmZmxolAzczMzMyKpECamZmZmVGdQA==",
           "dtype": "f8"
          },
          "sizemode": "area",
          "sizeref": 5.8741666666666665,
          "symbol": "circle"
         },
         "mode": "markers",
         "name": "Jul",
         "orientation": "v",
         "showlegend": true,
         "type": "scatter",
         "x": [
          "Jul",
          "Jul",
          "Jul",
          "Jul",
          "Jul",
          "Jul",
          "Jul",
          "Jul",
          "Jul",
          "Jul",
          "Jul",
          "Jul",
          "Jul",
          "Jul",
          "Jul",
          "Jul",
          "Jul",
          "Jul",
          "Jul",
          "Jul",
          "Jul",
          "Jul",
          "Jul",
          "Jul",
          "Jul",
          "Jul",
          "Jul",
          "Jul",
          "Jul",
          "Jul",
          "Jul",
          "Jul",
          "Jul",
          "Jul",
          "Jul",
          "Jul",
          "Jul",
          "Jul",
          "Jul",
          "Jul",
          "Jul",
          "Jul",
          "Jul",
          "Jul"
         ],
         "xaxis": "x",
         "y": {
          "bdata": "zczMzMzMhkCamZmZmfGDQGZmZmZmFodAAAAAAACoekBmZmZmZhmyQJqZmZmZGqNAAAAAAABOpUCamZmZGWyxQDMzMzMzpK9AzczMzMy4pUBmZmZmZuqCQM3MzMzMhIVAAAAAAACiq0AzMzMzM8eDQM3MzMzMzJhAzczMzMyPokCamZmZGaqxQGZmZmZmgoJAZmZmZuZvsUBmZmZmZlqKQAAAAAAASIdAAAAAAABYhEDNzMzMzDGhQAAAAACAFbBAAAAAAADKqUDNzMzMzDOqQDMzMzMzl5VAmpmZmZkPn0DNzMzMzLyEQJqZmZmZKYJAmpmZmZlEo0AzMzMzMx2fQDMzMzMzH7BAmpmZmZn2qkBmZmZmZqCoQJqZmZmZkqZAAAAAAAA3oUBmZmZmZrmsQM3MzMzM26ZAmpmZmZn0okDNzMzMTA2wQGZmZmZmxolAzczMzMyKpECamZmZmVGdQA==",
          "dtype": "f8"
         },
         "yaxis": "y"
        },
        {
         "hovertemplate": "<b>%{hovertext}</b><br><br>Month=%{x}<br>Automobile_Sales=%{marker.size}<extra></extra>",
         "hovertext": [
          "Jun",
          "Jun",
          "Jun",
          "Jun",
          "Jun",
          "Jun",
          "Jun",
          "Jun",
          "Jun",
          "Jun",
          "Jun",
          "Jun",
          "Jun",
          "Jun",
          "Jun",
          "Jun",
          "Jun",
          "Jun",
          "Jun",
          "Jun",
          "Jun",
          "Jun",
          "Jun",
          "Jun",
          "Jun",
          "Jun",
          "Jun",
          "Jun",
          "Jun",
          "Jun",
          "Jun",
          "Jun",
          "Jun",
          "Jun",
          "Jun",
          "Jun",
          "Jun",
          "Jun",
          "Jun",
          "Jun",
          "Jun",
          "Jun",
          "Jun",
          "Jun"
         ],
         "legendgroup": "Jun",
         "marker": {
          "color": "#FF6692",
          "size": {
           "bdata": "AAAAAACUh0DNzMzMzCyFQJqZmZmZtYZAzczMzMyhskAzMzMzMyWhQDMzMzMzvKxAZmZmZmbqiEAzMzMzM06rQM3MzMxMgLBAmpmZmZl2p0AzMzMzM9eBQGZmZmZmEoZAAAAAAACuk0CamZmZmbWMQAAAAAAA1qFAAAAAAACepUBmZmZmZt2hQDMzMzMzH5pAAAAAAID1sEDNzMzMTOuyQM3MzMzMmIFAzczMzMx4g0CamZmZmW6gQM3MzMzM3IFAzczMzMyLq0BmZmZmZlioQJqZmZmZ26VAMzMzMzNXqkDNzMzMzPiDQGZmZmZmdoFAzczMzMwMoUCamZmZmYixQGZmZmZmN65AMzMzMzM/nkAAAAAAgB+xQAAAAAAAIqBAZmZmZmbEq0AzMzMzM/+UQJqZmZmZy7JAZmZmZmaGhUAzMzMzM22cQGZmZmbm07BAzczMzMx2mEBmZmZmZi6fQA==",
           "dtype": "f8"
          },
          "sizemode": "area",
          "sizeref": 5.8741666666666665,
          "symbol": "circle"
         },
         "mode": "markers",
         "name": "Jun",
         "orientation": "v",
         "showlegend": true,
         "type": "scatter",
         "x": [
          "Jun",
          "Jun",
          "Jun",
          "Jun",
          "Jun",
          "Jun",
          "Jun",
          "Jun",
          "Jun",
          "Jun",
          "Jun",
          "Jun",
          "Jun",
          "Jun",
          "Jun",
          "Jun",
          "Jun",
          "Jun",
          "Jun",
          "Jun",
          "Jun",
          "Jun",
          "Jun",
          "Jun",
          "Jun",
          "Jun",
          "Jun",
          "Jun",
          "Jun",
          "Jun",
          "Jun",
          "Jun",
          "Jun",
          "Jun",
          "Jun",
          "Jun",
          "Jun",
          "Jun",
          "Jun",
          "Jun",
          "Jun",
          "Jun",
          "Jun",
          "Jun"
         ],
         "xaxis": "x",
         "y": {
          "bdata": "AAAAAACUh0DNzMzMzCyFQJqZmZmZtYZAzczMzMyhskAzMzMzMyWhQDMzMzMzvKxAZmZmZmbqiEAzMzMzM06rQM3MzMxMgLBAmpmZmZl2p0AzMzMzM9eBQGZmZmZmEoZAAAAAAACuk0CamZmZmbWMQAAAAAAA1qFAAAAAAACepUBmZmZmZt2hQDMzMzMzH5pAAAAAAID1sEDNzMzMTOuyQM3MzMzMmIFAzczMzMx4g0CamZmZmW6gQM3MzMzM3IFAzczMzMyLq0BmZmZmZlioQJqZmZmZ26VAMzMzMzNXqkDNzMzMzPiDQGZmZmZmdoFAzczMzMwMoUCamZmZmYixQGZmZmZmN65AMzMzMzM/nkAAAAAAgB+xQAAAAAAAIqBAZmZmZmbEq0AzMzMzM/+UQJqZmZmZy7JAZmZmZmaGhUAzMzMzM22cQGZmZmbm07BAzczMzMx2mEBmZmZmZi6fQA==",
          "dtype": "f8"
         },
         "yaxis": "y"
        },
        {
         "hovertemplate": "<b>%{hovertext}</b><br><br>Month=%{x}<br>Automobile_Sales=%{marker.size}<extra></extra>",
         "hovertext": [
          "Mar",
          "Mar",
          "Mar",
          "Mar",
          "Mar",
          "Mar",
          "Mar",
          "Mar",
          "Mar",
          "Mar",
          "Mar",
          "Mar",
          "Mar",
          "Mar",
          "Mar",
          "Mar",
          "Mar",
          "Mar",
          "Mar",
          "Mar",
          "Mar",
          "Mar",
          "Mar",
          "Mar",
          "Mar",
          "Mar",
          "Mar",
          "Mar",
          "Mar",
          "Mar",
          "Mar",
          "Mar",
          "Mar",
          "Mar",
          "Mar",
          "Mar",
          "Mar",
          "Mar",
          "Mar",
          "Mar",
          "Mar",
          "Mar",
          "Mar",
          "Mar"
         ],
         "legendgroup": "Mar",
         "marker": {
          "color": "#B6E880",
          "size": {
           "bdata": "AAAAAABgg0AAAAAAAHCEQDMzMzMze4dAAAAAAACbq0AzMzMzM9ytQM3MzMzMB6RAmpmZmZkphEAAAAAAALCTQJqZmZmZ2KZAMzMzMzNUsUCamZmZmfWBQDMzMzMze4FAMzMzMzN/iEBmZmZmZqutQDMzMzMzWalAMzMzMzNsrEAzMzMzM3eSQGZmZmZmt6dAMzMzMzO4r0DNzMzMzFixQAAAAAAA1J5AAAAAAABchUAAAAAAAFSGQM3MzMzMN6tAZmZmZuYOsEAzMzMzM/uoQGZmZmZmdpdAAAAAAABIrEBmZmZm5kOwQGZmZmZmAoNAmpmZmZmTlUCamZmZmWWrQJqZmZmZSY5AZmZmZmbGoECamZmZmcGpQGZmZmZm+KhAhetRuB7JjkBmZmZmZmSTQJqZmZmZiKxAzczMzMzUqECamZmZmX+xQDMzMzMz3alAzczMzMyloUAzMzMzM4ajQA==",
           "dtype": "f8"
          },
          "sizemode": "area",
          "sizeref": 5.8741666666666665,
          "symbol": "circle"
         },
         "mode": "markers",
         "name": "Mar",
         "orientation": "v",
         "showlegend": true,
         "type": "scatter",
         "x": [
          "Mar",
          "Mar",
          "Mar",
          "Mar",
          "Mar",
          "Mar",
          "Mar",
          "Mar",
          "Mar",
          "Mar",
          "Mar",
          "Mar",
          "Mar",
          "Mar",
          "Mar",
          "Mar",
          "Mar",
          "Mar",
          "Mar",
          "Mar",
          "Mar",
          "Mar",
          "Mar",
          "Mar",
          "Mar",
          "Mar",
          "Mar",
          "Mar",
          "Mar",
          "Mar",
          "Mar",
          "Mar",
          "Mar",
          "Mar",
          "Mar",
          "Mar",
          "Mar",
          "Mar",
          "Mar",
          "Mar",
          "Mar",
          "Mar",
          "Mar",
          "Mar"
         ],
         "xaxis": "x",
         "y": {
          "bdata": "AAAAAABgg0AAAAAAAHCEQDMzMzMze4dAAAAAAACbq0AzMzMzM9ytQM3MzMzMB6RAmpmZmZkphEAAAAAAALCTQJqZmZmZ2KZAMzMzMzNUsUCamZmZmfWBQDMzMzMze4FAMzMzMzN/iEBmZmZmZqutQDMzMzMzWalAMzMzMzNsrEAzMzMzM3eSQGZmZmZmt6dAMzMzMzO4r0DNzMzMzFixQAAAAAAA1J5AAAAAAABchUAAAAAAAFSGQM3MzMzMN6tAZmZmZuYOsEAzMzMzM/uoQGZmZmZmdpdAAAAAAABIrEBmZmZm5kOwQGZmZmZmAoNAmpmZmZmTlUCamZmZmWWrQJqZmZmZSY5AZmZmZmbGoECamZmZmcGpQGZmZmZm+KhAhetRuB7JjkBmZmZmZmSTQJqZmZmZiKxAzczMzMzUqECamZmZmX+xQDMzMzMz3alAzczMzMyloUAzMzMzM4ajQA==",
          "dtype": "f8"
         },
         "yaxis": "y"
        },
        {
         "hovertemplate": "<b>%{hovertext}</b><br><br>Month=%{x}<br>Automobile_Sales=%{marker.size}<extra></extra>",
         "hovertext": [
          "May",
          "May",
          "May",
          "May",
          "May",
          "May",
          "May",
          "May",
          "May",
          "May",
          "May",
          "May",
          "May",
          "May",
          "May",
          "May",
          "May",
          "May",
          "May",
          "May",
          "May",
          "May",
          "May",
          "May",
          "May",
          "May",
          "May",
          "May",
          "May",
          "May",
          "May",
          "May",
          "May",
          "May",
          "May",
          "May",
          "May",
          "May",
          "May",
          "May",
          "May",
          "May",
          "May",
          "May"
         ],
         "legendgroup": "May",
         "marker": {
          "color": "#FF97FF",
          "size": {
           "bdata": "MzMzMzMTiEAzMzMzM4eHQDMzMzMz34dAzczMzMxgjEBmZmZmZp6KQJqZmZmZEKpAZmZmZma0pUDNzMzMzG6dQM3MzMzMnqxAAAAAAADloUDNzMzMzCCFQAAAAAAAcIdAAAAAAAByqUAAAAAAAMCTQJqZmZmZgaNAMzMzMzN3lEBmZmZmZtyWQAAAAAAAJ6xAmpmZmZlHlUCamZmZmQ+nQM3MzMzM/IRAAAAAAABQhEBmZmZmZtKXQAAAAAAAD6VAZmZmZmZKkkCamZmZGY2xQJqZmZkZ4LFAmpmZmZlqskCamZmZmeWBQAAAAAAAoIRAZmZmZmaCrECamZmZGbSxQDMzMzMzNZ9AMzMzMzPop0DNzMzMzO6pQJqZmZmZPrJAZmZmZmYylkAzMzMzMw6pQJqZmZkZDrBAmpmZmZlViEAAAAAAANitQGZmZmZmZqRAMzMzMzMtl0AAAAAAAPSvQA==",
           "dtype": "f8"
          },
          "sizemode": "area",
          "sizeref": 5.8741666666666665,
          "symbol": "circle"
         },
         "mode": "markers",
         "name": "May",
         "orientation": "v",
         "showlegend": true,
         "type": "scatter",
         "x": [
          "May",
          "May",
          "May",
          "May",
          "May",
          "May",
          "May",
          "May",
          "May",
          "May",
          "May",
          "May",
          "May",
          "May",
          "May",
          "May",
          "May",
          "May",
          "May",
          "May",
          "May",
          "May",
          "May",
          "May",
          "May",
          "May",
          "May",
          "May",
          "May",
          "May",
          "May",
          "May",
          "May",
          "May",
          "May",
          "May",
          "May",
          "May",
          "May",
          "May",
          "May",
          "May",
          "May",
          "May"
         ],
         "xaxis": "x",
         "y": {
          "bdata": "MzMzMzMTiEAzMzMzM4eHQDMzMzMz34dAzczMzMxgjEBmZmZmZp6KQJqZmZmZEKpAZmZmZma0pUDNzMzMzG6dQM3MzMzMnqxAAAAAAADloUDNzMzMzCCFQAAAAAAAcIdAAAAAAAByqUAAAAAAAMCTQJqZmZmZgaNAMzMzMzN3lEBmZmZmZtyWQAAAAAAAJ6xAmpmZmZlHlUCamZmZmQ+nQM3MzMzM/IRAAAAAAABQhEBmZmZmZtKXQAAAAAAAD6VAZmZmZmZKkkCamZmZGY2xQJqZmZkZ4LFAmpmZmZlqskCamZmZmeWBQAAAAAAAoIRAZmZmZmaCrECamZmZGbSxQDMzMzMzNZ9AMzMzMzPop0DNzMzMzO6pQJqZmZmZPrJAZmZmZmYylkAzMzMzMw6pQJqZmZkZDrBAmpmZmZlViEAAAAAAANitQGZmZmZmZqRAMzMzMzMtl0AAAAAAAPSvQA==",
          "dtype": "f8"
         },
         "yaxis": "y"
        },
        {
         "hovertemplate": "<b>%{hovertext}</b><br><br>Month=%{x}<br>Automobile_Sales=%{marker.size}<extra></extra>",
         "hovertext": [
          "Nov",
          "Nov",
          "Nov",
          "Nov",
          "Nov",
          "Nov",
          "Nov",
          "Nov",
          "Nov",
          "Nov",
          "Nov",
          "Nov",
          "Nov",
          "Nov",
          "Nov",
          "Nov",
          "Nov",
          "Nov",
          "Nov",
          "Nov",
          "Nov",
          "Nov",
          "Nov",
          "Nov",
          "Nov",
          "Nov",
          "Nov",
          "Nov",
          "Nov",
          "Nov",
          "Nov",
          "Nov",
          "Nov",
          "Nov",
          "Nov",
          "Nov",
          "Nov",
          "Nov",
          "Nov",
          "Nov",
          "Nov",
          "Nov",
          "Nov",
          "Nov"
         ],
         "legendgroup": "Nov",
         "marker": {
          "color": "#FECB52",
          "size": {
           "bdata": "AAAAAADYh0AAAAAAAHCBQAAAAAAAgFlAzczMzMwlp0CamZmZmQ2hQAAAAAAAAIpAZmZmZmZ7okBmZmZmZpycQDMzMzMzN59AzczMzMypsEBmZmZmZo6FQGZmZmZm5oJAZmZmZma2kEDNzMzMzI+gQM3MzMzMladAAAAAAACQkEAzMzMzM6ODQAAAAACAYLBAzczMzEwRsEAAAAAAgBKwQAAAAAAAYGhAzczMzMxohECamZmZmVWtQAAAAAAA2q5AMzMzM7OSsUDNzMzMzFibQAAAAACAYrBAmpmZmZm5l0CamZmZmaGGQJqZmZmZsYRAZmZmZuZgsUAzMzMzs8iwQAAAAAAAuIZAAAAAAADnqUAAAAAAAJ2jQM3MzMzMy6pAAAAAAAA7rEBmZmZmZlSUQGZmZmZmIahAAAAAAIBxsUDNzMzMzKiCQGZmZmbmTLBAAAAAAADGkkAzMzMzM5mgQA==",
           "dtype": "f8"
          },
          "sizemode": "area",
          "sizeref": 5.8741666666666665,
          "symbol": "circle"
         },
         "mode": "markers",
         "name": "Nov",
         "orientation": "v",
         "showlegend": true,
         "type": "scatter",
         "x": [
          "Nov",
          "Nov",
          "Nov",
          "Nov",
          "Nov",
          "Nov",
          "Nov",
          "Nov",
          "Nov",
          "Nov",
          "Nov",
          "Nov",
          "Nov",
          "Nov",
          "Nov",
          "Nov",
          "Nov",
          "Nov",
          "Nov",
          "Nov",
          "Nov",
          "Nov",
          "Nov",
          "Nov",
          "Nov",
          "Nov",
          "Nov",
          "Nov",
          "Nov",
          "Nov",
          "Nov",
          "Nov",
          "Nov",
          "Nov",
          "Nov",
          "Nov",
          "Nov",
          "Nov",
          "Nov",
          "Nov",
          "Nov",
          "Nov",
          "Nov",
          "Nov"
         ],
         "xaxis": "x",
         "y": {
          "bdata": "AAAAAADYh0AAAAAAAHCBQAAAAAAAgFlAzczMzMwlp0CamZmZmQ2hQAAAAAAAAIpAZmZmZmZ7okBmZmZmZpycQDMzMzMzN59AzczMzMypsEBmZmZmZo6FQGZmZmZm5oJAZmZmZma2kEDNzMzMzI+gQM3MzMzMladAAAAAAACQkEAzMzMzM6ODQAAAAACAYLBAzczMzEwRsEAAAAAAgBKwQAAAAAAAYGhAzczMzMxohECamZmZmVWtQAAAAAAA2q5AMzMzM7OSsUDNzMzMzFibQAAAAACAYrBAmpmZmZm5l0CamZmZmaGGQJqZmZmZsYRAZmZmZuZgsUAzMzMzs8iwQAAAAAAAuIZAAAAAAADnqUAAAAAAAJ2jQM3MzMzMy6pAAAAAAAA7rEBmZmZmZlSUQGZmZmZmIahAAAAAAIBxsUDNzMzMzKiCQGZmZmbmTLBAAAAAAADGkkAzMzMzM5mgQA==",
          "dtype": "f8"
         },
         "yaxis": "y"
        },
        {
         "hovertemplate": "<b>%{hovertext}</b><br><br>Month=%{x}<br>Automobile_Sales=%{marker.size}<extra></extra>",
         "hovertext": [
          "Oct",
          "Oct",
          "Oct",
          "Oct",
          "Oct",
          "Oct",
          "Oct",
          "Oct",
          "Oct",
          "Oct",
          "Oct",
          "Oct",
          "Oct",
          "Oct",
          "Oct",
          "Oct",
          "Oct",
          "Oct",
          "Oct",
          "Oct",
          "Oct",
          "Oct",
          "Oct",
          "Oct",
          "Oct",
          "Oct",
          "Oct",
          "Oct",
          "Oct",
          "Oct",
          "Oct",
          "Oct",
          "Oct",
          "Oct",
          "Oct",
          "Oct",
          "Oct",
          "Oct",
          "Oct",
          "Oct",
          "Oct",
          "Oct",
          "Oct",
          "Oct"
         ],
         "legendgroup": "Oct",
         "marker": {
          "color": "#636efa",
          "size": {
           "bdata": "mpmZmZkNg0DNzMzMzECEQJqZmZmZgYZAZmZmZmZOskCamZmZmTObQM3MzMxMXrJAmpmZmZnHrkAAAAAAADiQQJqZmZmZp7JAMzMzMzO/q0AzMzMzM1uDQJqZmZmZtYFAzczMzMx6mEDNzMzMzE6ZQAAAAAAApalAZmZmZma9pkCamZmZmdCiQGZmZmbmobBAmpmZmZm5oUAAAAAAAEyhQJqZmZmZ0YFAAAAAAAC8h0CamZmZmV+kQDMzMzMzV4pAZmZmZmYUlkBmZmZmZh2tQAAAAAAAjaFAMzMzMzNcrEAzMzMzM5OFQAAAAAAAlINAMzMzMzPLhUBmZmZmZnKwQAAAAAAATplAzczMzMzGrkAzMzMzM4OuQDMzMzMzJbNAMzMzMzOgpUBmZmZmZqewQJqZmZmZN5NAZmZmZuZosUAAAAAAAMBqQJqZmZmZC7NAzczMzMwslECamZmZmVeaQA==",
           "dtype": "f8"
          },
          "sizemode": "area",
          "sizeref": 5.8741666666666665,
          "symbol": "circle"
         },
         "mode": "markers",
         "name": "Oct",
         "orientation": "v",
         "showlegend": true,
         "type": "scatter",
         "x": [
          "Oct",
          "Oct",
          "Oct",
          "Oct",
          "Oct",
          "Oct",
          "Oct",
          "Oct",
          "Oct",
          "Oct",
          "Oct",
          "Oct",
          "Oct",
          "Oct",
          "Oct",
          "Oct",
          "Oct",
          "Oct",
          "Oct",
          "Oct",
          "Oct",
          "Oct",
          "Oct",
          "Oct",
          "Oct",
          "Oct",
          "Oct",
          "Oct",
          "Oct",
          "Oct",
          "Oct",
          "Oct",
          "Oct",
          "Oct",
          "Oct",
          "Oct",
          "Oct",
          "Oct",
          "Oct",
          "Oct",
          "Oct",
          "Oct",
          "Oct",
          "Oct"
         ],
         "xaxis": "x",
         "y": {
          "bdata": "mpmZmZkNg0DNzMzMzECEQJqZmZmZgYZAZmZmZmZOskCamZmZmTObQM3MzMxMXrJAmpmZmZnHrkAAAAAAADiQQJqZmZmZp7JAMzMzMzO/q0AzMzMzM1uDQJqZmZmZtYFAzczMzMx6mEDNzMzMzE6ZQAAAAAAApalAZmZmZma9pkCamZmZmdCiQGZmZmbmobBAmpmZmZm5oUAAAAAAAEyhQJqZmZmZ0YFAAAAAAAC8h0CamZmZmV+kQDMzMzMzV4pAZmZmZmYUlkBmZmZmZh2tQAAAAAAAjaFAMzMzMzNcrEAzMzMzM5OFQAAAAAAAlINAMzMzMzPLhUBmZmZmZnKwQAAAAAAATplAzczMzMzGrkAzMzMzM4OuQDMzMzMzJbNAMzMzMzOgpUBmZmZmZqewQJqZmZmZN5NAZmZmZuZosUAAAAAAAMBqQJqZmZmZC7NAzczMzMwslECamZmZmVeaQA==",
          "dtype": "f8"
         },
         "yaxis": "y"
        },
        {
         "hovertemplate": "<b>%{hovertext}</b><br><br>Month=%{x}<br>Automobile_Sales=%{marker.size}<extra></extra>",
         "hovertext": [
          "Sep",
          "Sep",
          "Sep",
          "Sep",
          "Sep",
          "Sep",
          "Sep",
          "Sep",
          "Sep",
          "Sep",
          "Sep",
          "Sep",
          "Sep",
          "Sep",
          "Sep",
          "Sep",
          "Sep",
          "Sep",
          "Sep",
          "Sep",
          "Sep",
          "Sep",
          "Sep",
          "Sep",
          "Sep",
          "Sep",
          "Sep",
          "Sep",
          "Sep",
          "Sep",
          "Sep",
          "Sep",
          "Sep",
          "Sep",
          "Sep",
          "Sep",
          "Sep",
          "Sep",
          "Sep",
          "Sep",
          "Sep",
          "Sep",
          "Sep",
          "Sep"
         ],
         "legendgroup": "Sep",
         "marker": {
          "color": "#EF553B",
          "size": {
           "bdata": "zczMzMwMhkCamZmZmfGBQJqZmZmZQYhAmpmZmZlnsEAzMzMzM/GmQAAAAAAAyqpAzczMzMy8j0DNzMzMzAesQAAAAACA+rFAmpmZmZkGsUDNzMzMzJiEQDMzMzMzf4JAMzMzMzNWrEAzMzMzs5SxQGZmZmbmxrJAMzMzMzMrqkAzMzMzM+KlQGZmZmZm2aZAMzMzMzOfi0BmZmZmZmaLQJqZmZmZ+YFAmpmZmZmVhUCamZmZmRehQJqZmZmZSqdAMzMzMzNXlECamZmZmbWkQJqZmZmZaaxAZmZmZmbMlUBmZmZmZiqIQGZmZmZmUohAzczMzMyOmkAAAAAAAGizQAAAAACAbrNAZmZmZmYeg0CamZmZmU+zQJqZmZmZZbNAZmZmZmYqlEDNzMzMzG2rQGZmZmZmNqJAMzMzMzNRqUBmZmZmZqaFQDMzMzMza4pAAAAAAAAgj0CamZmZmY2RQA==",
           "dtype": "f8"
          },
          "sizemode": "area",
          "sizeref": 5.8741666666666665,
          "symbol": "circle"
         },
         "mode": "markers",
         "name": "Sep",
         "orientation": "v",
         "showlegend": true,
         "type": "scatter",
         "x": [
          "Sep",
          "Sep",
          "Sep",
          "Sep",
          "Sep",
          "Sep",
          "Sep",
          "Sep",
          "Sep",
          "Sep",
          "Sep",
          "Sep",
          "Sep",
          "Sep",
          "Sep",
          "Sep",
          "Sep",
          "Sep",
          "Sep",
          "Sep",
          "Sep",
          "Sep",
          "Sep",
          "Sep",
          "Sep",
          "Sep",
          "Sep",
          "Sep",
          "Sep",
          "Sep",
          "Sep",
          "Sep",
          "Sep",
          "Sep",
          "Sep",
          "Sep",
          "Sep",
          "Sep",
          "Sep",
          "Sep",
          "Sep",
          "Sep",
          "Sep",
          "Sep"
         ],
         "xaxis": "x",
         "y": {
          "bdata": "zczMzMwMhkCamZmZmfGBQJqZmZmZQYhAmpmZmZlnsEAzMzMzM/GmQAAAAAAAyqpAzczMzMy8j0DNzMzMzAesQAAAAACA+rFAmpmZmZkGsUDNzMzMzJiEQDMzMzMzf4JAMzMzMzNWrEAzMzMzs5SxQGZmZmbmxrJAMzMzMzMrqkAzMzMzM+KlQGZmZmZm2aZAMzMzMzOfi0BmZmZmZmaLQJqZmZmZ+YFAmpmZmZmVhUCamZmZmRehQJqZmZmZSqdAMzMzMzNXlECamZmZmbWkQJqZmZmZaaxAZmZmZmbMlUBmZmZmZiqIQGZmZmZmUohAzczMzMyOmkAAAAAAAGizQAAAAACAbrNAZmZmZmYeg0CamZmZmU+zQJqZmZmZZbNAZmZmZmYqlEDNzMzMzG2rQGZmZmZmNqJAMzMzMzNRqUBmZmZmZqaFQDMzMzMza4pAAAAAAAAgj0CamZmZmY2RQA==",
          "dtype": "f8"
         },
         "yaxis": "y"
        }
       ],
       "layout": {
        "legend": {
         "itemsizing": "constant",
         "title": {
          "text": "Month"
         },
         "tracegroupgap": 0
        },
        "margin": {
         "t": 60
        },
        "template": {
         "data": {
          "bar": [
           {
            "error_x": {
             "color": "#2a3f5f"
            },
            "error_y": {
             "color": "#2a3f5f"
            },
            "marker": {
             "line": {
              "color": "#E5ECF6",
              "width": 0.5
             },
             "pattern": {
              "fillmode": "overlay",
              "size": 10,
              "solidity": 0.2
             }
            },
            "type": "bar"
           }
          ],
          "barpolar": [
           {
            "marker": {
             "line": {
              "color": "#E5ECF6",
              "width": 0.5
             },
             "pattern": {
              "fillmode": "overlay",
              "size": 10,
              "solidity": 0.2
             }
            },
            "type": "barpolar"
           }
          ],
          "carpet": [
           {
            "aaxis": {
             "endlinecolor": "#2a3f5f",
             "gridcolor": "white",
             "linecolor": "white",
             "minorgridcolor": "white",
             "startlinecolor": "#2a3f5f"
            },
            "baxis": {
             "endlinecolor": "#2a3f5f",
             "gridcolor": "white",
             "linecolor": "white",
             "minorgridcolor": "white",
             "startlinecolor": "#2a3f5f"
            },
            "type": "carpet"
           }
          ],
          "choropleth": [
           {
            "colorbar": {
             "outlinewidth": 0,
             "ticks": ""
            },
            "type": "choropleth"
           }
          ],
          "contour": [
           {
            "colorbar": {
             "outlinewidth": 0,
             "ticks": ""
            },
            "colorscale": [
             [
              0,
              "#0d0887"
             ],
             [
              0.1111111111111111,
              "#46039f"
             ],
             [
              0.2222222222222222,
              "#7201a8"
             ],
             [
              0.3333333333333333,
              "#9c179e"
             ],
             [
              0.4444444444444444,
              "#bd3786"
             ],
             [
              0.5555555555555556,
              "#d8576b"
             ],
             [
              0.6666666666666666,
              "#ed7953"
             ],
             [
              0.7777777777777778,
              "#fb9f3a"
             ],
             [
              0.8888888888888888,
              "#fdca26"
             ],
             [
              1,
              "#f0f921"
             ]
            ],
            "type": "contour"
           }
          ],
          "contourcarpet": [
           {
            "colorbar": {
             "outlinewidth": 0,
             "ticks": ""
            },
            "type": "contourcarpet"
           }
          ],
          "heatmap": [
           {
            "colorbar": {
             "outlinewidth": 0,
             "ticks": ""
            },
            "colorscale": [
             [
              0,
              "#0d0887"
             ],
             [
              0.1111111111111111,
              "#46039f"
             ],
             [
              0.2222222222222222,
              "#7201a8"
             ],
             [
              0.3333333333333333,
              "#9c179e"
             ],
             [
              0.4444444444444444,
              "#bd3786"
             ],
             [
              0.5555555555555556,
              "#d8576b"
             ],
             [
              0.6666666666666666,
              "#ed7953"
             ],
             [
              0.7777777777777778,
              "#fb9f3a"
             ],
             [
              0.8888888888888888,
              "#fdca26"
             ],
             [
              1,
              "#f0f921"
             ]
            ],
            "type": "heatmap"
           }
          ],
          "histogram": [
           {
            "marker": {
             "pattern": {
              "fillmode": "overlay",
              "size": 10,
              "solidity": 0.2
             }
            },
            "type": "histogram"
           }
          ],
          "histogram2d": [
           {
            "colorbar": {
             "outlinewidth": 0,
             "ticks": ""
            },
            "colorscale": [
             [
              0,
              "#0d0887"
             ],
             [
              0.1111111111111111,
              "#46039f"
             ],
             [
              0.2222222222222222,
              "#7201a8"
             ],
             [
              0.3333333333333333,
              "#9c179e"
             ],
             [
              0.4444444444444444,
              "#bd3786"
             ],
             [
              0.5555555555555556,
              "#d8576b"
             ],
             [
              0.6666666666666666,
              "#ed7953"
             ],
             [
              0.7777777777777778,
              "#fb9f3a"
             ],
             [
              0.8888888888888888,
              "#fdca26"
             ],
             [
              1,
              "#f0f921"
             ]
            ],
            "type": "histogram2d"
           }
          ],
          "histogram2dcontour": [
           {
            "colorbar": {
             "outlinewidth": 0,
             "ticks": ""
            },
            "colorscale": [
             [
              0,
              "#0d0887"
             ],
             [
              0.1111111111111111,
              "#46039f"
             ],
             [
              0.2222222222222222,
              "#7201a8"
             ],
             [
              0.3333333333333333,
              "#9c179e"
             ],
             [
              0.4444444444444444,
              "#bd3786"
             ],
             [
              0.5555555555555556,
              "#d8576b"
             ],
             [
              0.6666666666666666,
              "#ed7953"
             ],
             [
              0.7777777777777778,
              "#fb9f3a"
             ],
             [
              0.8888888888888888,
              "#fdca26"
             ],
             [
              1,
              "#f0f921"
             ]
            ],
            "type": "histogram2dcontour"
           }
          ],
          "mesh3d": [
           {
            "colorbar": {
             "outlinewidth": 0,
             "ticks": ""
            },
            "type": "mesh3d"
           }
          ],
          "parcoords": [
           {
            "line": {
             "colorbar": {
              "outlinewidth": 0,
              "ticks": ""
             }
            },
            "type": "parcoords"
           }
          ],
          "pie": [
           {
            "automargin": true,
            "type": "pie"
           }
          ],
          "scatter": [
           {
            "fillpattern": {
             "fillmode": "overlay",
             "size": 10,
             "solidity": 0.2
            },
            "type": "scatter"
           }
          ],
          "scatter3d": [
           {
            "line": {
             "colorbar": {
              "outlinewidth": 0,
              "ticks": ""
             }
            },
            "marker": {
             "colorbar": {
              "outlinewidth": 0,
              "ticks": ""
             }
            },
            "type": "scatter3d"
           }
          ],
          "scattercarpet": [
           {
            "marker": {
             "colorbar": {
              "outlinewidth": 0,
              "ticks": ""
             }
            },
            "type": "scattercarpet"
           }
          ],
          "scattergeo": [
           {
            "marker": {
             "colorbar": {
              "outlinewidth": 0,
              "ticks": ""
             }
            },
            "type": "scattergeo"
           }
          ],
          "scattergl": [
           {
            "marker": {
             "colorbar": {
              "outlinewidth": 0,
              "ticks": ""
             }
            },
            "type": "scattergl"
           }
          ],
          "scattermap": [
           {
            "marker": {
             "colorbar": {
              "outlinewidth": 0,
              "ticks": ""
             }
            },
            "type": "scattermap"
           }
          ],
          "scattermapbox": [
           {
            "marker": {
             "colorbar": {
              "outlinewidth": 0,
              "ticks": ""
             }
            },
            "type": "scattermapbox"
           }
          ],
          "scatterpolar": [
           {
            "marker": {
             "colorbar": {
              "outlinewidth": 0,
              "ticks": ""
             }
            },
            "type": "scatterpolar"
           }
          ],
          "scatterpolargl": [
           {
            "marker": {
             "colorbar": {
              "outlinewidth": 0,
              "ticks": ""
             }
            },
            "type": "scatterpolargl"
           }
          ],
          "scatterternary": [
           {
            "marker": {
             "colorbar": {
              "outlinewidth": 0,
              "ticks": ""
             }
            },
            "type": "scatterternary"
           }
          ],
          "surface": [
           {
            "colorbar": {
             "outlinewidth": 0,
             "ticks": ""
            },
            "colorscale": [
             [
              0,
              "#0d0887"
             ],
             [
              0.1111111111111111,
              "#46039f"
             ],
             [
              0.2222222222222222,
              "#7201a8"
             ],
             [
              0.3333333333333333,
              "#9c179e"
             ],
             [
              0.4444444444444444,
              "#bd3786"
             ],
             [
              0.5555555555555556,
              "#d8576b"
             ],
             [
              0.6666666666666666,
              "#ed7953"
             ],
             [
              0.7777777777777778,
              "#fb9f3a"
             ],
             [
              0.8888888888888888,
              "#fdca26"
             ],
             [
              1,
              "#f0f921"
             ]
            ],
            "type": "surface"
           }
          ],
          "table": [
           {
            "cells": {
             "fill": {
              "color": "#EBF0F8"
             },
             "line": {
              "color": "white"
             }
            },
            "header": {
             "fill": {
              "color": "#C8D4E3"
             },
             "line": {
              "color": "white"
             }
            },
            "type": "table"
           }
          ]
         },
         "layout": {
          "annotationdefaults": {
           "arrowcolor": "#2a3f5f",
           "arrowhead": 0,
           "arrowwidth": 1
          },
          "autotypenumbers": "strict",
          "coloraxis": {
           "colorbar": {
            "outlinewidth": 0,
            "ticks": ""
           }
          },
          "colorscale": {
           "diverging": [
            [
             0,
             "#8e0152"
            ],
            [
             0.1,
             "#c51b7d"
            ],
            [
             0.2,
             "#de77ae"
            ],
            [
             0.3,
             "#f1b6da"
            ],
            [
             0.4,
             "#fde0ef"
            ],
            [
             0.5,
             "#f7f7f7"
            ],
            [
             0.6,
             "#e6f5d0"
            ],
            [
             0.7,
             "#b8e186"
            ],
            [
             0.8,
             "#7fbc41"
            ],
            [
             0.9,
             "#4d9221"
            ],
            [
             1,
             "#276419"
            ]
           ],
           "sequential": [
            [
             0,
             "#0d0887"
            ],
            [
             0.1111111111111111,
             "#46039f"
            ],
            [
             0.2222222222222222,
             "#7201a8"
            ],
            [
             0.3333333333333333,
             "#9c179e"
            ],
            [
             0.4444444444444444,
             "#bd3786"
            ],
            [
             0.5555555555555556,
             "#d8576b"
            ],
            [
             0.6666666666666666,
             "#ed7953"
            ],
            [
             0.7777777777777778,
             "#fb9f3a"
            ],
            [
             0.8888888888888888,
             "#fdca26"
            ],
            [
             1,
             "#f0f921"
            ]
           ],
           "sequentialminus": [
            [
             0,
             "#0d0887"
            ],
            [
             0.1111111111111111,
             "#46039f"
            ],
            [
             0.2222222222222222,
             "#7201a8"
            ],
            [
             0.3333333333333333,
             "#9c179e"
            ],
            [
             0.4444444444444444,
             "#bd3786"
            ],
            [
             0.5555555555555556,
             "#d8576b"
            ],
            [
             0.6666666666666666,
             "#ed7953"
            ],
            [
             0.7777777777777778,
             "#fb9f3a"
            ],
            [
             0.8888888888888888,
             "#fdca26"
            ],
            [
             1,
             "#f0f921"
            ]
           ]
          },
          "colorway": [
           "#636efa",
           "#EF553B",
           "#00cc96",
           "#ab63fa",
           "#FFA15A",
           "#19d3f3",
           "#FF6692",
           "#B6E880",
           "#FF97FF",
           "#FECB52"
          ],
          "font": {
           "color": "#2a3f5f"
          },
          "geo": {
           "bgcolor": "white",
           "lakecolor": "white",
           "landcolor": "#E5ECF6",
           "showlakes": true,
           "showland": true,
           "subunitcolor": "white"
          },
          "hoverlabel": {
           "align": "left"
          },
          "hovermode": "closest",
          "mapbox": {
           "style": "light"
          },
          "paper_bgcolor": "white",
          "plot_bgcolor": "#E5ECF6",
          "polar": {
           "angularaxis": {
            "gridcolor": "white",
            "linecolor": "white",
            "ticks": ""
           },
           "bgcolor": "#E5ECF6",
           "radialaxis": {
            "gridcolor": "white",
            "linecolor": "white",
            "ticks": ""
           }
          },
          "scene": {
           "xaxis": {
            "backgroundcolor": "#E5ECF6",
            "gridcolor": "white",
            "gridwidth": 2,
            "linecolor": "white",
            "showbackground": true,
            "ticks": "",
            "zerolinecolor": "white"
           },
           "yaxis": {
            "backgroundcolor": "#E5ECF6",
            "gridcolor": "white",
            "gridwidth": 2,
            "linecolor": "white",
            "showbackground": true,
            "ticks": "",
            "zerolinecolor": "white"
           },
           "zaxis": {
            "backgroundcolor": "#E5ECF6",
            "gridcolor": "white",
            "gridwidth": 2,
            "linecolor": "white",
            "showbackground": true,
            "ticks": "",
            "zerolinecolor": "white"
           }
          },
          "shapedefaults": {
           "line": {
            "color": "#2a3f5f"
           }
          },
          "ternary": {
           "aaxis": {
            "gridcolor": "white",
            "linecolor": "white",
            "ticks": ""
           },
           "baxis": {
            "gridcolor": "white",
            "linecolor": "white",
            "ticks": ""
           },
           "bgcolor": "#E5ECF6",
           "caxis": {
            "gridcolor": "white",
            "linecolor": "white",
            "ticks": ""
           }
          },
          "title": {
           "x": 0.05
          },
          "xaxis": {
           "automargin": true,
           "gridcolor": "white",
           "linecolor": "white",
           "ticks": "",
           "title": {
            "standoff": 15
           },
           "zerolinecolor": "white",
           "zerolinewidth": 2
          },
          "yaxis": {
           "automargin": true,
           "gridcolor": "white",
           "linecolor": "white",
           "ticks": "",
           "title": {
            "standoff": 15
           },
           "zerolinecolor": "white",
           "zerolinewidth": 2
          }
         }
        },
        "xaxis": {
         "anchor": "y",
         "categoryarray": [
          "Apr",
          "Aug",
          "Dec",
          "Feb",
          "Jan",
          "Jul",
          "Jun",
          "Mar",
          "May",
          "Nov",
          "Oct",
          "Sep"
         ],
         "categoryorder": "array",
         "domain": [
          0,
          1
         ],
         "title": {
          "text": "Month"
         }
        },
        "yaxis": {
         "anchor": "x",
         "domain": [
          0,
          1
         ],
         "title": {
          "text": "Automobile_Sales"
         }
        }
       }
      }
     },
     "metadata": {},
     "output_type": "display_data"
    }
   ],
   "source": [
    "bublefig=px.scatter(df_buble_season,x=\"Month\",y=\"Automobile_Sales\",size=\"Automobile_Sales\",color=\"Month\",hover_name=\"Month\",size_max=60)\n",
    "bublefig.show()"
   ]
  },
  {
   "cell_type": "markdown",
   "id": "81ab240d",
   "metadata": {},
   "source": [
    "The Season Does not effected the Sales OverAll but in April the Sales Increased so much"
   ]
  },
  {
   "cell_type": "code",
   "execution_count": 16,
   "id": "c06eac45",
   "metadata": {},
   "outputs": [],
   "source": [
    "av_sv=df[df[\"Period\"]==\"Recession\"].groupby(\"Year\")[[\"Price\",\"Automobile_Sales\"]].mean().reset_index()"
   ]
  },
  {
   "cell_type": "markdown",
   "id": "081e5ae8",
   "metadata": {},
   "source": [
    "Scatter plot of average vehicle price vs sales volume during recessions"
   ]
  },
  {
   "cell_type": "code",
   "execution_count": 17,
   "id": "c755262c",
   "metadata": {},
   "outputs": [
    {
     "data": {
      "image/png": "[encoded data removed]",
      "text/plain": [
       "<Figure size 1500x500 with 1 Axes>"
      ]
     },
     "metadata": {},
     "output_type": "display_data"
    }
   ],
   "source": [
    "plt.figure(figsize=(15,5))\n",
    "plt.scatter(data=av_sv,x=\"Price\",y=\"Automobile_Sales\")\n",
    "plt.title(\"Average Price VS Sales\")\n",
    "plt.xlabel(\"Price\")\n",
    "plt.ylabel(\"Sales\")\n",
    "plt.show()"
   ]
  },
  {
   "cell_type": "markdown",
   "id": "9d514367",
   "metadata": {},
   "source": [
    "This show Moderate Negtive Relationship between Price and Sales"
   ]
  },
  {
   "cell_type": "code",
   "execution_count": 18,
   "id": "a3996cac",
   "metadata": {},
   "outputs": [],
   "source": [
    "cc_as=df[df[\"Period\"]==\"Recession\"].groupby(\"Year\")[[\"Consumer_Confidence\",\"Automobile_Sales\"]].sum().reset_index()"
   ]
  },
  {
   "cell_type": "markdown",
   "id": "484b031e",
   "metadata": {},
   "source": [
    "Identify if there a correlation between consumer confidence and automobile sales during recession period?"
   ]
  },
  {
   "cell_type": "code",
   "execution_count": 19,
   "id": "6fbc454c",
   "metadata": {},
   "outputs": [
    {
     "data": {
      "image/png": "[encoded data removed]",
      "text/plain": [
       "<Figure size 1500x500 with 1 Axes>"
      ]
     },
     "metadata": {},
     "output_type": "display_data"
    }
   ],
   "source": [
    "plt.figure(figsize=(15,5))\n",
    "plt.scatter(data=cc_as,x=\"Consumer_Confidence\",y=\"Automobile_Sales\")\n",
    "plt.title(\"Consumer Confidence and Automobile Sales during Recessions\")\n",
    "plt.xlabel(\"Consumer Confidence\")\n",
    "plt.ylabel(\"Sales\")\n",
    "plt.show()"
   ]
  },
  {
   "cell_type": "markdown",
   "id": "a03d1775",
   "metadata": {},
   "source": [
    "The RelationShip is Linearly Increasing"
   ]
  },
  {
   "cell_type": "markdown",
   "id": "947fff6d",
   "metadata": {},
   "source": [
    "Display a Pie chart to display the portion of advertising expenditure of XYZAutomotives during recession and non-recession periods. "
   ]
  },
  {
   "cell_type": "code",
   "execution_count": 20,
   "id": "c1529b8f",
   "metadata": {},
   "outputs": [],
   "source": [
    "ae_rnr=df.groupby(\"Period\")[\"Advertising_Expenditure\"].sum().reset_index()"
   ]
  },
  {
   "cell_type": "code",
   "execution_count": 21,
   "id": "0e6f0d96",
   "metadata": {},
   "outputs": [
    {
     "data": {
      "application/vnd.plotly.v1+json": {
       "config": {
        "plotlyServerURL": "https://plot.ly"
       },
       "data": [
        {
         "domain": {
          "x": [
           0,
           1
          ],
          "y": [
           0,
           1
          ]
         },
         "hovertemplate": "Period=%{label}<br>Advertising_Expenditure=%{value}<extra></extra>",
         "labels": [
          "Non Recession",
          "Recession"
         ],
         "legendgroup": "",
         "name": "",
         "showlegend": true,
         "type": "pie",
         "values": {
          "bdata": "24YTAMYvBQA=",
          "dtype": "i4"
         }
        }
       ],
       "layout": {
        "legend": {
         "tracegroupgap": 0
        },
        "margin": {
         "t": 60
        },
        "template": {
         "data": {
          "bar": [
           {
            "error_x": {
             "color": "#2a3f5f"
            },
            "error_y": {
             "color": "#2a3f5f"
            },
            "marker": {
             "line": {
              "color": "#E5ECF6",
              "width": 0.5
             },
             "pattern": {
              "fillmode": "overlay",
              "size": 10,
              "solidity": 0.2
             }
            },
            "type": "bar"
           }
          ],
          "barpolar": [
           {
            "marker": {
             "line": {
              "color": "#E5ECF6",
              "width": 0.5
             },
             "pattern": {
              "fillmode": "overlay",
              "size": 10,
              "solidity": 0.2
             }
            },
            "type": "barpolar"
           }
          ],
          "carpet": [
           {
            "aaxis": {
             "endlinecolor": "#2a3f5f",
             "gridcolor": "white",
             "linecolor": "white",
             "minorgridcolor": "white",
             "startlinecolor": "#2a3f5f"
            },
            "baxis": {
             "endlinecolor": "#2a3f5f",
             "gridcolor": "white",
             "linecolor": "white",
             "minorgridcolor": "white",
             "startlinecolor": "#2a3f5f"
            },
            "type": "carpet"
           }
          ],
          "choropleth": [
           {
            "colorbar": {
             "outlinewidth": 0,
             "ticks": ""
            },
            "type": "choropleth"
           }
          ],
          "contour": [
           {
            "colorbar": {
             "outlinewidth": 0,
             "ticks": ""
            },
            "colorscale": [
             [
              0,
              "#0d0887"
             ],
             [
              0.1111111111111111,
              "#46039f"
             ],
             [
              0.2222222222222222,
              "#7201a8"
             ],
             [
              0.3333333333333333,
              "#9c179e"
             ],
             [
              0.4444444444444444,
              "#bd3786"
             ],
             [
              0.5555555555555556,
              "#d8576b"
             ],
             [
              0.6666666666666666,
              "#ed7953"
             ],
             [
              0.7777777777777778,
              "#fb9f3a"
             ],
             [
              0.8888888888888888,
              "#fdca26"
             ],
             [
              1,
              "#f0f921"
             ]
            ],
            "type": "contour"
           }
          ],
          "contourcarpet": [
           {
            "colorbar": {
             "outlinewidth": 0,
             "ticks": ""
            },
            "type": "contourcarpet"
           }
          ],
          "heatmap": [
           {
            "colorbar": {
             "outlinewidth": 0,
             "ticks": ""
            },
            "colorscale": [
             [
              0,
              "#0d0887"
             ],
             [
              0.1111111111111111,
              "#46039f"
             ],
             [
              0.2222222222222222,
              "#7201a8"
             ],
             [
              0.3333333333333333,
              "#9c179e"
             ],
             [
              0.4444444444444444,
              "#bd3786"
             ],
             [
              0.5555555555555556,
              "#d8576b"
             ],
             [
              0.6666666666666666,
              "#ed7953"
             ],
             [
              0.7777777777777778,
              "#fb9f3a"
             ],
             [
              0.8888888888888888,
              "#fdca26"
             ],
             [
              1,
              "#f0f921"
             ]
            ],
            "type": "heatmap"
           }
          ],
          "histogram": [
           {
            "marker": {
             "pattern": {
              "fillmode": "overlay",
              "size": 10,
              "solidity": 0.2
             }
            },
            "type": "histogram"
           }
          ],
          "histogram2d": [
           {
            "colorbar": {
             "outlinewidth": 0,
             "ticks": ""
            },
            "colorscale": [
             [
              0,
              "#0d0887"
             ],
             [
              0.1111111111111111,
              "#46039f"
             ],
             [
              0.2222222222222222,
              "#7201a8"
             ],
             [
              0.3333333333333333,
              "#9c179e"
             ],
             [
              0.4444444444444444,
              "#bd3786"
             ],
             [
              0.5555555555555556,
              "#d8576b"
             ],
             [
              0.6666666666666666,
              "#ed7953"
             ],
             [
              0.7777777777777778,
              "#fb9f3a"
             ],
             [
              0.8888888888888888,
              "#fdca26"
             ],
             [
              1,
              "#f0f921"
             ]
            ],
            "type": "histogram2d"
           }
          ],
          "histogram2dcontour": [
           {
            "colorbar": {
             "outlinewidth": 0,
             "ticks": ""
            },
            "colorscale": [
             [
              0,
              "#0d0887"
             ],
             [
              0.1111111111111111,
              "#46039f"
             ],
             [
              0.2222222222222222,
              "#7201a8"
             ],
             [
              0.3333333333333333,
              "#9c179e"
             ],
             [
              0.4444444444444444,
              "#bd3786"
             ],
             [
              0.5555555555555556,
              "#d8576b"
             ],
             [
              0.6666666666666666,
              "#ed7953"
             ],
             [
              0.7777777777777778,
              "#fb9f3a"
             ],
             [
              0.8888888888888888,
              "#fdca26"
             ],
             [
              1,
              "#f0f921"
             ]
            ],
            "type": "histogram2dcontour"
           }
          ],
          "mesh3d": [
           {
            "colorbar": {
             "outlinewidth": 0,
             "ticks": ""
            },
            "type": "mesh3d"
           }
          ],
          "parcoords": [
           {
            "line": {
             "colorbar": {
              "outlinewidth": 0,
              "ticks": ""
             }
            },
            "type": "parcoords"
           }
          ],
          "pie": [
           {
            "automargin": true,
            "type": "pie"
           }
          ],
          "scatter": [
           {
            "fillpattern": {
             "fillmode": "overlay",
             "size": 10,
             "solidity": 0.2
            },
            "type": "scatter"
           }
          ],
          "scatter3d": [
           {
            "line": {
             "colorbar": {
              "outlinewidth": 0,
              "ticks": ""
             }
            },
            "marker": {
             "colorbar": {
              "outlinewidth": 0,
              "ticks": ""
             }
            },
            "type": "scatter3d"
           }
          ],
          "scattercarpet": [
           {
            "marker": {
             "colorbar": {
              "outlinewidth": 0,
              "ticks": ""
             }
            },
            "type": "scattercarpet"
           }
          ],
          "scattergeo": [
           {
            "marker": {
             "colorbar": {
              "outlinewidth": 0,
              "ticks": ""
             }
            },
            "type": "scattergeo"
           }
          ],
          "scattergl": [
           {
            "marker": {
             "colorbar": {
              "outlinewidth": 0,
              "ticks": ""
             }
            },
            "type": "scattergl"
           }
          ],
          "scattermap": [
           {
            "marker": {
             "colorbar": {
              "outlinewidth": 0,
              "ticks": ""
             }
            },
            "type": "scattermap"
           }
          ],
          "scattermapbox": [
           {
            "marker": {
             "colorbar": {
              "outlinewidth": 0,
              "ticks": ""
             }
            },
            "type": "scattermapbox"
           }
          ],
          "scatterpolar": [
           {
            "marker": {
             "colorbar": {
              "outlinewidth": 0,
              "ticks": ""
             }
            },
            "type": "scatterpolar"
           }
          ],
          "scatterpolargl": [
           {
            "marker": {
             "colorbar": {
              "outlinewidth": 0,
              "ticks": ""
             }
            },
            "type": "scatterpolargl"
           }
          ],
          "scatterternary": [
           {
            "marker": {
             "colorbar": {
              "outlinewidth": 0,
              "ticks": ""
             }
            },
            "type": "scatterternary"
           }
          ],
          "surface": [
           {
            "colorbar": {
             "outlinewidth": 0,
             "ticks": ""
            },
            "colorscale": [
             [
              0,
              "#0d0887"
             ],
             [
              0.1111111111111111,
              "#46039f"
             ],
             [
              0.2222222222222222,
              "#7201a8"
             ],
             [
              0.3333333333333333,
              "#9c179e"
             ],
             [
              0.4444444444444444,
              "#bd3786"
             ],
             [
              0.5555555555555556,
              "#d8576b"
             ],
             [
              0.6666666666666666,
              "#ed7953"
             ],
             [
              0.7777777777777778,
              "#fb9f3a"
             ],
             [
              0.8888888888888888,
              "#fdca26"
             ],
             [
              1,
              "#f0f921"
             ]
            ],
            "type": "surface"
           }
          ],
          "table": [
           {
            "cells": {
             "fill": {
              "color": "#EBF0F8"
             },
             "line": {
              "color": "white"
             }
            },
            "header": {
             "fill": {
              "color": "#C8D4E3"
             },
             "line": {
              "color": "white"
             }
            },
            "type": "table"
           }
          ]
         },
         "layout": {
          "annotationdefaults": {
           "arrowcolor": "#2a3f5f",
           "arrowhead": 0,
           "arrowwidth": 1
          },
          "autotypenumbers": "strict",
          "coloraxis": {
           "colorbar": {
            "outlinewidth": 0,
            "ticks": ""
           }
          },
          "colorscale": {
           "diverging": [
            [
             0,
             "#8e0152"
            ],
            [
             0.1,
             "#c51b7d"
            ],
            [
             0.2,
             "#de77ae"
            ],
            [
             0.3,
             "#f1b6da"
            ],
            [
             0.4,
             "#fde0ef"
            ],
            [
             0.5,
             "#f7f7f7"
            ],
            [
             0.6,
             "#e6f5d0"
            ],
            [
             0.7,
             "#b8e186"
            ],
            [
             0.8,
             "#7fbc41"
            ],
            [
             0.9,
             "#4d9221"
            ],
            [
             1,
             "#276419"
            ]
           ],
           "sequential": [
            [
             0,
             "#0d0887"
            ],
            [
             0.1111111111111111,
             "#46039f"
            ],
            [
             0.2222222222222222,
             "#7201a8"
            ],
            [
             0.3333333333333333,
             "#9c179e"
            ],
            [
             0.4444444444444444,
             "#bd3786"
            ],
            [
             0.5555555555555556,
             "#d8576b"
            ],
            [
             0.6666666666666666,
             "#ed7953"
            ],
            [
             0.7777777777777778,
             "#fb9f3a"
            ],
            [
             0.8888888888888888,
             "#fdca26"
            ],
            [
             1,
             "#f0f921"
            ]
           ],
           "sequentialminus": [
            [
             0,
             "#0d0887"
            ],
            [
             0.1111111111111111,
             "#46039f"
            ],
            [
             0.2222222222222222,
             "#7201a8"
            ],
            [
             0.3333333333333333,
             "#9c179e"
            ],
            [
             0.4444444444444444,
             "#bd3786"
            ],
            [
             0.5555555555555556,
             "#d8576b"
            ],
            [
             0.6666666666666666,
             "#ed7953"
            ],
            [
             0.7777777777777778,
             "#fb9f3a"
            ],
            [
             0.8888888888888888,
             "#fdca26"
            ],
            [
             1,
             "#f0f921"
            ]
           ]
          },
          "colorway": [
           "#636efa",
           "#EF553B",
           "#00cc96",
           "#ab63fa",
           "#FFA15A",
           "#19d3f3",
           "#FF6692",
           "#B6E880",
           "#FF97FF",
           "#FECB52"
          ],
          "font": {
           "color": "#2a3f5f"
          },
          "geo": {
           "bgcolor": "white",
           "lakecolor": "white",
           "landcolor": "#E5ECF6",
           "showlakes": true,
           "showland": true,
           "subunitcolor": "white"
          },
          "hoverlabel": {
           "align": "left"
          },
          "hovermode": "closest",
          "mapbox": {
           "style": "light"
          },
          "paper_bgcolor": "white",
          "plot_bgcolor": "#E5ECF6",
          "polar": {
           "angularaxis": {
            "gridcolor": "white",
            "linecolor": "white",
            "ticks": ""
           },
           "bgcolor": "#E5ECF6",
           "radialaxis": {
            "gridcolor": "white",
            "linecolor": "white",
            "ticks": ""
           }
          },
          "scene": {
           "xaxis": {
            "backgroundcolor": "#E5ECF6",
            "gridcolor": "white",
            "gridwidth": 2,
            "linecolor": "white",
            "showbackground": true,
            "ticks": "",
            "zerolinecolor": "white"
           },
           "yaxis": {
            "backgroundcolor": "#E5ECF6",
            "gridcolor": "white",
            "gridwidth": 2,
            "linecolor": "white",
            "showbackground": true,
            "ticks": "",
            "zerolinecolor": "white"
           },
           "zaxis": {
            "backgroundcolor": "#E5ECF6",
            "gridcolor": "white",
            "gridwidth": 2,
            "linecolor": "white",
            "showbackground": true,
            "ticks": "",
            "zerolinecolor": "white"
           }
          },
          "shapedefaults": {
           "line": {
            "color": "#2a3f5f"
           }
          },
          "ternary": {
           "aaxis": {
            "gridcolor": "white",
            "linecolor": "white",
            "ticks": ""
           },
           "baxis": {
            "gridcolor": "white",
            "linecolor": "white",
            "ticks": ""
           },
           "bgcolor": "#E5ECF6",
           "caxis": {
            "gridcolor": "white",
            "linecolor": "white",
            "ticks": ""
           }
          },
          "title": {
           "x": 0.05
          },
          "xaxis": {
           "automargin": true,
           "gridcolor": "white",
           "linecolor": "white",
           "ticks": "",
           "title": {
            "standoff": 15
           },
           "zerolinecolor": "white",
           "zerolinewidth": 2
          },
          "yaxis": {
           "automargin": true,
           "gridcolor": "white",
           "linecolor": "white",
           "ticks": "",
           "title": {
            "standoff": 15
           },
           "zerolinecolor": "white",
           "zerolinewidth": 2
          }
         }
        }
       }
      }
     },
     "metadata": {},
     "output_type": "display_data"
    }
   ],
   "source": [
    "pfig=px.pie(ae_rnr,names=\"Period\",values=\"Advertising_Expenditure\")\n",
    "pfig.show()"
   ]
  },
  {
   "cell_type": "markdown",
   "id": "26d4dbd4",
   "metadata": {},
   "source": [
    "The Above pie chart clearly shows that Automotive Sector Did not spended on Advertising in Recession Periods"
   ]
  },
  {
   "cell_type": "code",
   "execution_count": 22,
   "id": "961c38df",
   "metadata": {},
   "outputs": [],
   "source": [
    "tae_vt=df[df[\"Period\"]==\"Recession\"].groupby(\"Vehicle_Type\")[\"Advertising_Expenditure\"].sum().reset_index()"
   ]
  },
  {
   "cell_type": "markdown",
   "id": "998ad616",
   "metadata": {},
   "source": [
    "Develop a pie chart to display the total Advertisement expenditure for each vehicle type during recession period"
   ]
  },
  {
   "cell_type": "code",
   "execution_count": 23,
   "id": "1d8a9c8e",
   "metadata": {},
   "outputs": [
    {
     "data": {
      "application/vnd.plotly.v1+json": {
       "config": {
        "plotlyServerURL": "https://plot.ly"
       },
       "data": [
        {
         "domain": {
          "x": [
           0,
           1
          ],
          "y": [
           0,
           1
          ]
         },
         "hovertemplate": "Vehicle_Type=%{label}<br>Advertising_Expenditure=%{value}<extra></extra>",
         "labels": [
          "Executivecar",
          "Mediumfamilycar",
          "Smallfamiliycar",
          "Sports",
          "Supperminicar"
         ],
         "legendgroup": "",
         "name": "",
         "showlegend": true,
         "type": "pie",
         "values": {
          "bdata": "qwwAADT+AQBnkQEAGDEAAGhiAQA=",
          "dtype": "i4"
         }
        }
       ],
       "layout": {
        "height": 1000,
        "legend": {
         "tracegroupgap": 0
        },
        "margin": {
         "t": 60
        },
        "template": {
         "data": {
          "bar": [
           {
            "error_x": {
             "color": "#2a3f5f"
            },
            "error_y": {
             "color": "#2a3f5f"
            },
            "marker": {
             "line": {
              "color": "#E5ECF6",
              "width": 0.5
             },
             "pattern": {
              "fillmode": "overlay",
              "size": 10,
              "solidity": 0.2
             }
            },
            "type": "bar"
           }
          ],
          "barpolar": [
           {
            "marker": {
             "line": {
              "color": "#E5ECF6",
              "width": 0.5
             },
             "pattern": {
              "fillmode": "overlay",
              "size": 10,
              "solidity": 0.2
             }
            },
            "type": "barpolar"
           }
          ],
          "carpet": [
           {
            "aaxis": {
             "endlinecolor": "#2a3f5f",
             "gridcolor": "white",
             "linecolor": "white",
             "minorgridcolor": "white",
             "startlinecolor": "#2a3f5f"
            },
            "baxis": {
             "endlinecolor": "#2a3f5f",
             "gridcolor": "white",
             "linecolor": "white",
             "minorgridcolor": "white",
             "startlinecolor": "#2a3f5f"
            },
            "type": "carpet"
           }
          ],
          "choropleth": [
           {
            "colorbar": {
             "outlinewidth": 0,
             "ticks": ""
            },
            "type": "choropleth"
           }
          ],
          "contour": [
           {
            "colorbar": {
             "outlinewidth": 0,
             "ticks": ""
            },
            "colorscale": [
             [
              0,
              "#0d0887"
             ],
             [
              0.1111111111111111,
              "#46039f"
             ],
             [
              0.2222222222222222,
              "#7201a8"
             ],
             [
              0.3333333333333333,
              "#9c179e"
             ],
             [
              0.4444444444444444,
              "#bd3786"
             ],
             [
              0.5555555555555556,
              "#d8576b"
             ],
             [
              0.6666666666666666,
              "#ed7953"
             ],
             [
              0.7777777777777778,
              "#fb9f3a"
             ],
             [
              0.8888888888888888,
              "#fdca26"
             ],
             [
              1,
              "#f0f921"
             ]
            ],
            "type": "contour"
           }
          ],
          "contourcarpet": [
           {
            "colorbar": {
             "outlinewidth": 0,
             "ticks": ""
            },
            "type": "contourcarpet"
           }
          ],
          "heatmap": [
           {
            "colorbar": {
             "outlinewidth": 0,
             "ticks": ""
            },
            "colorscale": [
             [
              0,
              "#0d0887"
             ],
             [
              0.1111111111111111,
              "#46039f"
             ],
             [
              0.2222222222222222,
              "#7201a8"
             ],
             [
              0.3333333333333333,
              "#9c179e"
             ],
             [
              0.4444444444444444,
              "#bd3786"
             ],
             [
              0.5555555555555556,
              "#d8576b"
             ],
             [
              0.6666666666666666,
              "#ed7953"
             ],
             [
              0.7777777777777778,
              "#fb9f3a"
             ],
             [
              0.8888888888888888,
              "#fdca26"
             ],
             [
              1,
              "#f0f921"
             ]
            ],
            "type": "heatmap"
           }
          ],
          "histogram": [
           {
            "marker": {
             "pattern": {
              "fillmode": "overlay",
              "size": 10,
              "solidity": 0.2
             }
            },
            "type": "histogram"
           }
          ],
          "histogram2d": [
           {
            "colorbar": {
             "outlinewidth": 0,
             "ticks": ""
            },
            "colorscale": [
             [
              0,
              "#0d0887"
             ],
             [
              0.1111111111111111,
              "#46039f"
             ],
             [
              0.2222222222222222,
              "#7201a8"
             ],
             [
              0.3333333333333333,
              "#9c179e"
             ],
             [
              0.4444444444444444,
              "#bd3786"
             ],
             [
              0.5555555555555556,
              "#d8576b"
             ],
             [
              0.6666666666666666,
              "#ed7953"
             ],
             [
              0.7777777777777778,
              "#fb9f3a"
             ],
             [
              0.8888888888888888,
              "#fdca26"
             ],
             [
              1,
              "#f0f921"
             ]
            ],
            "type": "histogram2d"
           }
          ],
          "histogram2dcontour": [
           {
            "colorbar": {
             "outlinewidth": 0,
             "ticks": ""
            },
            "colorscale": [
             [
              0,
              "#0d0887"
             ],
             [
              0.1111111111111111,
              "#46039f"
             ],
             [
              0.2222222222222222,
              "#7201a8"
             ],
             [
              0.3333333333333333,
              "#9c179e"
             ],
             [
              0.4444444444444444,
              "#bd3786"
             ],
             [
              0.5555555555555556,
              "#d8576b"
             ],
             [
              0.6666666666666666,
              "#ed7953"
             ],
             [
              0.7777777777777778,
              "#fb9f3a"
             ],
             [
              0.8888888888888888,
              "#fdca26"
             ],
             [
              1,
              "#f0f921"
             ]
            ],
            "type": "histogram2dcontour"
           }
          ],
          "mesh3d": [
           {
            "colorbar": {
             "outlinewidth": 0,
             "ticks": ""
            },
            "type": "mesh3d"
           }
          ],
          "parcoords": [
           {
            "line": {
             "colorbar": {
              "outlinewidth": 0,
              "ticks": ""
             }
            },
            "type": "parcoords"
           }
          ],
          "pie": [
           {
            "automargin": true,
            "type": "pie"
           }
          ],
          "scatter": [
           {
            "fillpattern": {
             "fillmode": "overlay",
             "size": 10,
             "solidity": 0.2
            },
            "type": "scatter"
           }
          ],
          "scatter3d": [
           {
            "line": {
             "colorbar": {
              "outlinewidth": 0,
              "ticks": ""
             }
            },
            "marker": {
             "colorbar": {
              "outlinewidth": 0,
              "ticks": ""
             }
            },
            "type": "scatter3d"
           }
          ],
          "scattercarpet": [
           {
            "marker": {
             "colorbar": {
              "outlinewidth": 0,
              "ticks": ""
             }
            },
            "type": "scattercarpet"
           }
          ],
          "scattergeo": [
           {
            "marker": {
             "colorbar": {
              "outlinewidth": 0,
              "ticks": ""
             }
            },
            "type": "scattergeo"
           }
          ],
          "scattergl": [
           {
            "marker": {
             "colorbar": {
              "outlinewidth": 0,
              "ticks": ""
             }
            },
            "type": "scattergl"
           }
          ],
          "scattermap": [
           {
            "marker": {
             "colorbar": {
              "outlinewidth": 0,
              "ticks": ""
             }
            },
            "type": "scattermap"
           }
          ],
          "scattermapbox": [
           {
            "marker": {
             "colorbar": {
              "outlinewidth": 0,
              "ticks": ""
             }
            },
            "type": "scattermapbox"
           }
          ],
          "scatterpolar": [
           {
            "marker": {
             "colorbar": {
              "outlinewidth": 0,
              "ticks": ""
             }
            },
            "type": "scatterpolar"
           }
          ],
          "scatterpolargl": [
           {
            "marker": {
             "colorbar": {
              "outlinewidth": 0,
              "ticks": ""
             }
            },
            "type": "scatterpolargl"
           }
          ],
          "scatterternary": [
           {
            "marker": {
             "colorbar": {
              "outlinewidth": 0,
              "ticks": ""
             }
            },
            "type": "scatterternary"
           }
          ],
          "surface": [
           {
            "colorbar": {
             "outlinewidth": 0,
             "ticks": ""
            },
            "colorscale": [
             [
              0,
              "#0d0887"
             ],
             [
              0.1111111111111111,
              "#46039f"
             ],
             [
              0.2222222222222222,
              "#7201a8"
             ],
             [
              0.3333333333333333,
              "#9c179e"
             ],
             [
              0.4444444444444444,
              "#bd3786"
             ],
             [
              0.5555555555555556,
              "#d8576b"
             ],
             [
              0.6666666666666666,
              "#ed7953"
             ],
             [
              0.7777777777777778,
              "#fb9f3a"
             ],
             [
              0.8888888888888888,
              "#fdca26"
             ],
             [
              1,
              "#f0f921"
             ]
            ],
            "type": "surface"
           }
          ],
          "table": [
           {
            "cells": {
             "fill": {
              "color": "#EBF0F8"
             },
             "line": {
              "color": "white"
             }
            },
            "header": {
             "fill": {
              "color": "#C8D4E3"
             },
             "line": {
              "color": "white"
             }
            },
            "type": "table"
           }
          ]
         },
         "layout": {
          "annotationdefaults": {
           "arrowcolor": "#2a3f5f",
           "arrowhead": 0,
           "arrowwidth": 1
          },
          "autotypenumbers": "strict",
          "coloraxis": {
           "colorbar": {
            "outlinewidth": 0,
            "ticks": ""
           }
          },
          "colorscale": {
           "diverging": [
            [
             0,
             "#8e0152"
            ],
            [
             0.1,
             "#c51b7d"
            ],
            [
             0.2,
             "#de77ae"
            ],
            [
             0.3,
             "#f1b6da"
            ],
            [
             0.4,
             "#fde0ef"
            ],
            [
             0.5,
             "#f7f7f7"
            ],
            [
             0.6,
             "#e6f5d0"
            ],
            [
             0.7,
             "#b8e186"
            ],
            [
             0.8,
             "#7fbc41"
            ],
            [
             0.9,
             "#4d9221"
            ],
            [
             1,
             "#276419"
            ]
           ],
           "sequential": [
            [
             0,
             "#0d0887"
            ],
            [
             0.1111111111111111,
             "#46039f"
            ],
            [
             0.2222222222222222,
             "#7201a8"
            ],
            [
             0.3333333333333333,
             "#9c179e"
            ],
            [
             0.4444444444444444,
             "#bd3786"
            ],
            [
             0.5555555555555556,
             "#d8576b"
            ],
            [
             0.6666666666666666,
             "#ed7953"
            ],
            [
             0.7777777777777778,
             "#fb9f3a"
            ],
            [
             0.8888888888888888,
             "#fdca26"
            ],
            [
             1,
             "#f0f921"
            ]
           ],
           "sequentialminus": [
            [
             0,
             "#0d0887"
            ],
            [
             0.1111111111111111,
             "#46039f"
            ],
            [
             0.2222222222222222,
             "#7201a8"
            ],
            [
             0.3333333333333333,
             "#9c179e"
            ],
            [
             0.4444444444444444,
             "#bd3786"
            ],
            [
             0.5555555555555556,
             "#d8576b"
            ],
            [
             0.6666666666666666,
             "#ed7953"
            ],
            [
             0.7777777777777778,
             "#fb9f3a"
            ],
            [
             0.8888888888888888,
             "#fdca26"
            ],
            [
             1,
             "#f0f921"
            ]
           ]
          },
          "colorway": [
           "#636efa",
           "#EF553B",
           "#00cc96",
           "#ab63fa",
           "#FFA15A",
           "#19d3f3",
           "#FF6692",
           "#B6E880",
           "#FF97FF",
           "#FECB52"
          ],
          "font": {
           "color": "#2a3f5f"
          },
          "geo": {
           "bgcolor": "white",
           "lakecolor": "white",
           "landcolor": "#E5ECF6",
           "showlakes": true,
           "showland": true,
           "subunitcolor": "white"
          },
          "hoverlabel": {
           "align": "left"
          },
          "hovermode": "closest",
          "mapbox": {
           "style": "light"
          },
          "paper_bgcolor": "white",
          "plot_bgcolor": "#E5ECF6",
          "polar": {
           "angularaxis": {
            "gridcolor": "white",
            "linecolor": "white",
            "ticks": ""
           },
           "bgcolor": "#E5ECF6",
           "radialaxis": {
            "gridcolor": "white",
            "linecolor": "white",
            "ticks": ""
           }
          },
          "scene": {
           "xaxis": {
            "backgroundcolor": "#E5ECF6",
            "gridcolor": "white",
            "gridwidth": 2,
            "linecolor": "white",
            "showbackground": true,
            "ticks": "",
            "zerolinecolor": "white"
           },
           "yaxis": {
            "backgroundcolor": "#E5ECF6",
            "gridcolor": "white",
            "gridwidth": 2,
            "linecolor": "white",
            "showbackground": true,
            "ticks": "",
            "zerolinecolor": "white"
           },
           "zaxis": {
            "backgroundcolor": "#E5ECF6",
            "gridcolor": "white",
            "gridwidth": 2,
            "linecolor": "white",
            "showbackground": true,
            "ticks": "",
            "zerolinecolor": "white"
           }
          },
          "shapedefaults": {
           "line": {
            "color": "#2a3f5f"
           }
          },
          "ternary": {
           "aaxis": {
            "gridcolor": "white",
            "linecolor": "white",
            "ticks": ""
           },
           "baxis": {
            "gridcolor": "white",
            "linecolor": "white",
            "ticks": ""
           },
           "bgcolor": "#E5ECF6",
           "caxis": {
            "gridcolor": "white",
            "linecolor": "white",
            "ticks": ""
           }
          },
          "title": {
           "x": 0.05
          },
          "xaxis": {
           "automargin": true,
           "gridcolor": "white",
           "linecolor": "white",
           "ticks": "",
           "title": {
            "standoff": 15
           },
           "zerolinecolor": "white",
           "zerolinewidth": 2
          },
          "yaxis": {
           "automargin": true,
           "gridcolor": "white",
           "linecolor": "white",
           "ticks": "",
           "title": {
            "standoff": 15
           },
           "zerolinecolor": "white",
           "zerolinewidth": 2
          }
         }
        },
        "width": 1000
       }
      }
     },
     "metadata": {},
     "output_type": "display_data"
    }
   ],
   "source": [
    "ppfig=px.pie(tae_vt,names=\"Vehicle_Type\",values=\"Advertising_Expenditure\")\n",
    "ppfig.update_layout(height=1000,width=1000)\n",
    "ppfig.show()"
   ]
  },
  {
   "cell_type": "markdown",
   "id": "7968b7a4",
   "metadata": {},
   "source": [
    "In period of Recession The Company Spended most of its Spending On Budget Friendly Cars "
   ]
  },
  {
   "cell_type": "code",
   "execution_count": 24,
   "id": "58bba646",
   "metadata": {},
   "outputs": [
    {
     "data": {
      "text/html": [
       "<div>\n",
       "<style scoped>\n",
       "    .dataframe tbody tr th:only-of-type {\n",
       "        vertical-align: middle;\n",
       "    }\n",
       "\n",
       "    .dataframe tbody tr th {\n",
       "        vertical-align: top;\n",
       "    }\n",
       "\n",
       "    .dataframe thead th {\n",
       "        text-align: right;\n",
       "    }\n",
       "</style>\n",
       "<table border=\"1\" class=\"dataframe\">\n",
       "  <thead>\n",
       "    <tr style=\"text-align: right;\">\n",
       "      <th></th>\n",
       "      <th>Date</th>\n",
       "      <th>Year</th>\n",
       "      <th>Month</th>\n",
       "      <th>Recession</th>\n",
       "      <th>Consumer_Confidence</th>\n",
       "      <th>Seasonality_Weight</th>\n",
       "      <th>Price</th>\n",
       "      <th>Advertising_Expenditure</th>\n",
       "      <th>Competition</th>\n",
       "      <th>GDP</th>\n",
       "      <th>Growth_Rate</th>\n",
       "      <th>unemployment_rate</th>\n",
       "      <th>Automobile_Sales</th>\n",
       "      <th>Vehicle_Type</th>\n",
       "      <th>City</th>\n",
       "      <th>Period</th>\n",
       "    </tr>\n",
       "  </thead>\n",
       "  <tbody>\n",
       "    <tr>\n",
       "      <th>0</th>\n",
       "      <td>1/31/1980</td>\n",
       "      <td>1980</td>\n",
       "      <td>Jan</td>\n",
       "      <td>1</td>\n",
       "      <td>108.24</td>\n",
       "      <td>0.50</td>\n",
       "      <td>27483.571</td>\n",
       "      <td>1558</td>\n",
       "      <td>7</td>\n",
       "      <td>60.223</td>\n",
       "      <td>0.010000</td>\n",
       "      <td>5.4</td>\n",
       "      <td>456.0</td>\n",
       "      <td>Supperminicar</td>\n",
       "      <td>Georgia</td>\n",
       "      <td>Recession</td>\n",
       "    </tr>\n",
       "    <tr>\n",
       "      <th>1</th>\n",
       "      <td>2/29/1980</td>\n",
       "      <td>1980</td>\n",
       "      <td>Feb</td>\n",
       "      <td>1</td>\n",
       "      <td>98.75</td>\n",
       "      <td>0.75</td>\n",
       "      <td>24308.678</td>\n",
       "      <td>3048</td>\n",
       "      <td>4</td>\n",
       "      <td>45.986</td>\n",
       "      <td>-0.309594</td>\n",
       "      <td>4.8</td>\n",
       "      <td>555.9</td>\n",
       "      <td>Supperminicar</td>\n",
       "      <td>New York</td>\n",
       "      <td>Recession</td>\n",
       "    </tr>\n",
       "    <tr>\n",
       "      <th>2</th>\n",
       "      <td>3/31/1980</td>\n",
       "      <td>1980</td>\n",
       "      <td>Mar</td>\n",
       "      <td>1</td>\n",
       "      <td>107.48</td>\n",
       "      <td>0.20</td>\n",
       "      <td>28238.443</td>\n",
       "      <td>3137</td>\n",
       "      <td>3</td>\n",
       "      <td>35.141</td>\n",
       "      <td>-0.308614</td>\n",
       "      <td>3.4</td>\n",
       "      <td>620.0</td>\n",
       "      <td>Mediumfamilycar</td>\n",
       "      <td>New York</td>\n",
       "      <td>Recession</td>\n",
       "    </tr>\n",
       "    <tr>\n",
       "      <th>3</th>\n",
       "      <td>4/30/1980</td>\n",
       "      <td>1980</td>\n",
       "      <td>Apr</td>\n",
       "      <td>1</td>\n",
       "      <td>115.01</td>\n",
       "      <td>1.00</td>\n",
       "      <td>32615.149</td>\n",
       "      <td>1653</td>\n",
       "      <td>7</td>\n",
       "      <td>45.673</td>\n",
       "      <td>0.230596</td>\n",
       "      <td>4.2</td>\n",
       "      <td>702.8</td>\n",
       "      <td>Supperminicar</td>\n",
       "      <td>Illinois</td>\n",
       "      <td>Recession</td>\n",
       "    </tr>\n",
       "    <tr>\n",
       "      <th>4</th>\n",
       "      <td>5/31/1980</td>\n",
       "      <td>1980</td>\n",
       "      <td>May</td>\n",
       "      <td>1</td>\n",
       "      <td>98.72</td>\n",
       "      <td>0.20</td>\n",
       "      <td>23829.233</td>\n",
       "      <td>1319</td>\n",
       "      <td>4</td>\n",
       "      <td>52.997</td>\n",
       "      <td>0.138197</td>\n",
       "      <td>5.3</td>\n",
       "      <td>770.4</td>\n",
       "      <td>Smallfamiliycar</td>\n",
       "      <td>California</td>\n",
       "      <td>Recession</td>\n",
       "    </tr>\n",
       "  </tbody>\n",
       "</table>\n",
       "</div>"
      ],
      "text/plain": [
       "        Date  Year Month  Recession  Consumer_Confidence  Seasonality_Weight  \\\n",
       "0  1/31/1980  1980   Jan          1               108.24                0.50   \n",
       "1  2/29/1980  1980   Feb          1                98.75                0.75   \n",
       "2  3/31/1980  1980   Mar          1               107.48                0.20   \n",
       "3  4/30/1980  1980   Apr          1               115.01                1.00   \n",
       "4  5/31/1980  1980   May          1                98.72                0.20   \n",
       "\n",
       "       Price  Advertising_Expenditure  Competition     GDP  Growth_Rate  \\\n",
       "0  27483.571                     1558            7  60.223     0.010000   \n",
       "1  24308.678                     3048            4  45.986    -0.309594   \n",
       "2  28238.443                     3137            3  35.141    -0.308614   \n",
       "3  32615.149                     1653            7  45.673     0.230596   \n",
       "4  23829.233                     1319            4  52.997     0.138197   \n",
       "\n",
       "   unemployment_rate  Automobile_Sales     Vehicle_Type        City     Period  \n",
       "0                5.4             456.0    Supperminicar     Georgia  Recession  \n",
       "1                4.8             555.9    Supperminicar    New York  Recession  \n",
       "2                3.4             620.0  Mediumfamilycar    New York  Recession  \n",
       "3                4.2             702.8    Supperminicar    Illinois  Recession  \n",
       "4                5.3             770.4  Smallfamiliycar  California  Recession  "
      ]
     },
     "execution_count": 24,
     "metadata": {},
     "output_type": "execute_result"
    }
   ],
   "source": [
    "df.head()"
   ]
  },
  {
   "cell_type": "code",
   "execution_count": 25,
   "id": "55f7e43d",
   "metadata": {},
   "outputs": [],
   "source": [
    "ur_vt_s=df[df[\"Period\"]==\"Recession\"].groupby([\"Year\",\"Vehicle_Type\"])[[\"Automobile_Sales\",\"unemployment_rate\"]].mean().reset_index()"
   ]
  },
  {
   "cell_type": "markdown",
   "id": "5e326322",
   "metadata": {},
   "source": [
    "How Unemployment rate effected sales and the types"
   ]
  },
  {
   "cell_type": "code",
   "execution_count": 26,
   "id": "b9efd7a9",
   "metadata": {},
   "outputs": [],
   "source": [
    "ur_vt_s = (\n",
    "    df[df[\"Period\"] == \"Recession\"]\n",
    "    .groupby([\"Year\", \"Vehicle_Type\"])\n",
    "    .agg({\n",
    "        \"Automobile_Sales\": \"sum\",\n",
    "        \"unemployment_rate\": \"mean\"\n",
    "    })\n",
    "    .reset_index()\n",
    ")"
   ]
  },
  {
   "cell_type": "code",
   "execution_count": 27,
   "id": "60db1ca7",
   "metadata": {},
   "outputs": [
    {
     "data": {
      "image/png": "[encoded data removed]",
      "text/plain": [
       "<Figure size 1500x500 with 1 Axes>"
      ]
     },
     "metadata": {},
     "output_type": "display_data"
    }
   ],
   "source": [
    "plt.figure(figsize=(15,5))\n",
    "sns.lineplot(data=ur_vt_s,x=\"Year\",y=\"Automobile_Sales\",hue=\"Vehicle_Type\",markers=\"o\")\n",
    "sns.lineplot(data=ur_vt_s,x=\"Year\",y=\"unemployment_rate\",hue=\"Vehicle_Type\",markers=\"o\")\n",
    "plt.show()"
   ]
  },
  {
   "cell_type": "code",
   "execution_count": 35,
   "id": "a1cf5ec6",
   "metadata": {},
   "outputs": [
    {
     "data": {
      "text/html": [
       "\n",
       "        <iframe\n",
       "            width=\"100%\"\n",
       "            height=\"650\"\n",
       "            src=\"http://127.0.0.1:8052/\"\n",
       "            frameborder=\"0\"\n",
       "            allowfullscreen\n",
       "            \n",
       "        ></iframe>\n",
       "        "
      ],
      "text/plain": [
       "<IPython.lib.display.IFrame at 0x1a71a214100>"
      ]
     },
     "metadata": {},
     "output_type": "display_data"
    }
   ],
   "source": [
    "app = dash.Dash(__name__)\n",
    "\n",
    "app.layout = html.Div([\n",
    "    html.H1(\n",
    "        \"Automobile Sales Statistics Dashboard\",\n",
    "        style={\n",
    "            \"textAlign\": \"center\",\n",
    "            \"color\": \"#503D36\",\n",
    "            \"fontSize\": 24\n",
    "        }\n",
    "    ),\n",
    "\n",
    "    html.Label(\"Select Vehicle Type:\"),\n",
    "    dcc.Dropdown(\n",
    "        id=\"vehicle-type-dropdown\",\n",
    "        options=[{\"label\": vt, \"value\": vt} for vt in df__[\"Vehicle_Type\"].unique()],\n",
    "        value=df__[\"Vehicle_Type\"].unique()[0]\n",
    "    ),\n",
    "\n",
    "    dcc.Graph(id=\"sales-graph\")\n",
    "])\n",
    "\n",
    "@app.callback(\n",
    "    dash.Output(\"sales-graph\", \"figure\"),\n",
    "    [dash.Input(\"vehicle-type-dropdown\", \"value\")]\n",
    ")\n",
    "def update_graph(selected_vehicle):\n",
    "    filtered_df = df__[df__[\"Vehicle_Type\"] == selected_vehicle]\n",
    "    fig = px.line(\n",
    "        filtered_df,\n",
    "        x=\"Year\",\n",
    "        y=\"Automobile_Sales\",\n",
    "        color=\"Vehicle_Type\",\n",
    "        title=f\"Vehicle Sales Trends: {selected_vehicle}\"\n",
    "    )\n",
    "    return fig\n",
    "\n",
    "if __name__ == \"__main__\":\n",
    "    app.run(debug=True, port=8052)  "
   ]
  },
  {
   "cell_type": "code",
   "execution_count": null,
   "id": "c24a219f",
   "metadata": {},
   "outputs": [
    {
     "data": {
      "text/html": [
       "\n",
       "        <iframe\n",
       "            width=\"100%\"\n",
       "            height=\"650\"\n",
       "            src=\"http://127.0.0.1:8051/\"\n",
       "            frameborder=\"0\"\n",
       "            allowfullscreen\n",
       "            \n",
       "        ></iframe>\n",
       "        "
      ],
      "text/plain": [
       "<IPython.lib.display.IFrame at 0x1a71a871720>"
      ]
     },
     "metadata": {},
     "output_type": "display_data"
    }
   ],
   "source": [
    "app = dash.Dash(__name__)\n",
    "\n",
    "# ------------------ Plot 1 ------------------\n",
    "# Automobile sales fluctuate over Recession Period (year wise)\n",
    "yearly_rec = df[df[\"Period\"]==\"Recession\"].groupby('Year')['Automobile_Sales'].mean().reset_index()\n",
    "R_chart1 = dcc.Graph(\n",
    "    figure=px.line(\n",
    "        yearly_rec,\n",
    "        x='Year',\n",
    "        y='Automobile_Sales',\n",
    "        title=\"Yearly Average Automobile Sales during Recession\"\n",
    "    )\n",
    ")\n",
    "\n",
    "# ------------------ Plot 2 ------------------\n",
    "# Average number of vehicles sold by vehicle type (Bar chart)\n",
    "average_sales = df[df[\"Period\"]==\"Recession\"].groupby('Vehicle_Type')['Automobile_Sales'].mean().reset_index()\n",
    "R_chart2 = dcc.Graph(\n",
    "    figure=px.bar(\n",
    "        average_sales,\n",
    "        x='Vehicle_Type',\n",
    "        y='Automobile_Sales',\n",
    "        title=\"Average Vehicle Sales by Vehicle Type (Recession)\"\n",
    "    )\n",
    ")\n",
    "\n",
    "# ------------------ Plot 3 ------------------\n",
    "# Total expenditure share by vehicle type (Pie chart)\n",
    "exp_rec = df[df[\"Period\"]==\"Recession\"].groupby('Vehicle_Type')['Advertising_Expenditure'].sum().reset_index()\n",
    "R_chart3 = dcc.Graph(\n",
    "    figure=px.pie(\n",
    "        exp_rec,\n",
    "        values='Advertising_Expenditure',\n",
    "        names='Vehicle_Type',\n",
    "        title=\"Total Advertising Expenditure Share by Vehicle Type\"\n",
    "    )\n",
    ")\n",
    "\n",
    "# ------------------ Plot 4 ------------------\n",
    "# Effect of unemployment rate on vehicle type and sales (Bar chart)\n",
    "unemp_data = df[df[\"Period\"]==\"Recession\"].groupby(['unemployment_rate', 'Vehicle_Type'])['Automobile_Sales'].mean().reset_index()\n",
    "R_chart4 = dcc.Graph(\n",
    "    figure=px.bar(\n",
    "        unemp_data,\n",
    "        x='unemployment_rate',\n",
    "        y='Automobile_Sales',\n",
    "        color='Vehicle_Type',\n",
    "        labels={\n",
    "            'unemployment_rate': 'Unemployment Rate',\n",
    "            'Automobile_Sales': 'Average Automobile Sales'\n",
    "        },\n",
    "        title=\"Effect of Unemployment Rate on Vehicle Type and Sales\"\n",
    "    )\n",
    ")\n",
    "\n",
    "# ------------------ Layout ------------------\n",
    "app.layout = html.Div([\n",
    "    html.H1(\"Recession Report Statistics\", style={\"textAlign\": \"center\"}),\n",
    "\n",
    "    html.Div(className='chart-item', children=[\n",
    "        html.Div(children=R_chart1, style={\"flex\": \"1\", \"padding\": \"10px\"}),\n",
    "        html.Div(children=R_chart2, style={\"flex\": \"1\", \"padding\": \"10px\"})\n",
    "    ], style={'display': 'flex'}),\n",
    "\n",
    "    html.Div(className='chart-item', children=[\n",
    "        html.Div(children=R_chart3, style={\"flex\": \"1\", \"padding\": \"10px\"}),\n",
    "        html.Div(children=R_chart4, style={\"flex\": \"1\", \"padding\": \"10px\"})\n",
    "    ], style={'display': 'flex'})\n",
    "])\n",
    "\n",
    "if __name__ == \"__main__\":\n",
    "    app.run(debug=True, port=8051)  "
   ]
  },
  {
   "cell_type": "code",
   "execution_count": null,
   "id": "bfe9ba04",
   "metadata": {},
   "outputs": [],
   "source": [
    "%pip install asyncio"
   ]
  },
  {
   "cell_type": "code",
   "execution_count": null,
   "id": "1503bae1",
   "metadata": {},
   "outputs": [
    {
     "data": {
      "text/html": [
       "<script type=\"esms-options\">{\"shimMode\": true}</script><style>*[data-root-id],\n",
       "*[data-root-id] > * {\n",
       "  box-sizing: border-box;\n",
       "  font-family: var(--jp-ui-font-family);\n",
       "  font-size: var(--jp-ui-font-size1);\n",
       "  color: var(--vscode-editor-foreground, var(--jp-ui-font-color1));\n",
       "}\n",
       "\n",
       "/* Override VSCode background color */\n",
       ".cell-output-ipywidget-background:has(\n",
       "  > .cell-output-ipywidget-background > .lm-Widget > *[data-root-id]\n",
       "),\n",
       ".cell-output-ipywidget-background:has(> .lm-Widget > *[data-root-id]) {\n",
       "  background-color: transparent !important;\n",
       "}\n",
       "</style>"
      ]
     },
     "metadata": {},
     "output_type": "display_data"
    },
    {
     "data": {
      "application/javascript": "(function(root) {\n  function now() {\n    return new Date();\n  }\n\n  const force = true;\n  const py_version = '3.7.3'.replace('rc', '-rc.').replace('.dev', '-dev.');\n  const reloading = false;\n  const Bokeh = root.Bokeh;\n\n  // Set a timeout for this load but only if we are not already initializing\n  if (typeof (root._bokeh_timeout) === \"undefined\" || (force || !root._bokeh_is_initializing)) {\n    root._bokeh_timeout = Date.now() + 5000;\n    root._bokeh_failed_load = false;\n  }\n\n  function run_callbacks() {\n    try {\n      root._bokeh_onload_callbacks.forEach(function(callback) {\n        if (callback != null)\n          callback();\n      });\n    } finally {\n      delete root._bokeh_onload_callbacks;\n    }\n    console.debug(\"Bokeh: all callbacks have finished\");\n  }\n\n  function load_libs(css_urls, js_urls, js_modules, js_exports, callback) {\n    if (css_urls == null) css_urls = [];\n    if (js_urls == null) js_urls = [];\n    if (js_modules == null) js_modules = [];\n    if (js_exports == null) js_exports = {};\n\n    root._bokeh_onload_callbacks.push(callback);\n\n    if (root._bokeh_is_loading > 0) {\n      // Don't load bokeh if it is still initializing\n      console.debug(\"Bokeh: BokehJS is being loaded, scheduling callback at\", now());\n      return null;\n    } else if (js_urls.length === 0 && js_modules.length === 0 && Object.keys(js_exports).length === 0) {\n      // There is nothing to load\n      run_callbacks();\n      return null;\n    }\n\n    function on_load() {\n      root._bokeh_is_loading--;\n      if (root._bokeh_is_loading === 0) {\n        console.debug(\"Bokeh: all BokehJS libraries/stylesheets loaded\");\n        run_callbacks()\n      }\n    }\n    window._bokeh_on_load = on_load\n\n    function on_error(e) {\n      const src_el = e.srcElement\n      console.error(\"failed to load \" + (src_el.href || src_el.src));\n    }\n\n    const skip = [];\n    if (window.requirejs) {\n      window.requirejs.config({'packages': {}, 'paths': {}, 'shim': {}});\n      root._bokeh_is_loading = css_urls.length + 0;\n    } else {\n      root._bokeh_is_loading = css_urls.length + js_urls.length + js_modules.length + Object.keys(js_exports).length;\n    }\n\n    const existing_stylesheets = []\n    const links = document.getElementsByTagName('link')\n    for (let i = 0; i < links.length; i++) {\n      const link = links[i]\n      if (link.href != null) {\n        existing_stylesheets.push(link.href)\n      }\n    }\n    for (let i = 0; i < css_urls.length; i++) {\n      const url = css_urls[i];\n      const escaped = encodeURI(url)\n      if (existing_stylesheets.indexOf(escaped) !== -1) {\n        on_load()\n        continue;\n      }\n      const element = document.createElement(\"link\");\n      element.onload = on_load;\n      element.onerror = on_error;\n      element.rel = \"stylesheet\";\n      element.type = \"text/css\";\n      element.href = url;\n      console.debug(\"Bokeh: injecting link tag for BokehJS stylesheet: \", url);\n      document.body.appendChild(element);\n    }    var existing_scripts = []\n    const scripts = document.getElementsByTagName('script')\n    for (let i = 0; i < scripts.length; i++) {\n      var script = scripts[i]\n      if (script.src != null) {\n        existing_scripts.push(script.src)\n      }\n    }\n    for (let i = 0; i < js_urls.length; i++) {\n      const url = js_urls[i];\n      const escaped = encodeURI(url)\n      if (skip.indexOf(escaped) !== -1 || existing_scripts.indexOf(escaped) !== -1) {\n        if (!window.requirejs) {\n          on_load();\n        }\n        continue;\n      }\n      const element = document.createElement('script');\n      element.onload = on_load;\n      element.onerror = on_error;\n      element.async = false;\n      element.src = url;\n      console.debug(\"Bokeh: injecting script tag for BokehJS library: \", url);\n      document.head.appendChild(element);\n    }\n    for (let i = 0; i < js_modules.length; i++) {\n      const url = js_modules[i];\n      const escaped = encodeURI(url)\n      if (skip.indexOf(escaped) !== -1 || existing_scripts.indexOf(escaped) !== -1) {\n        if (!window.requirejs) {\n          on_load();\n        }\n        continue;\n      }\n      var element = document.createElement('script');\n      element.onload = on_load;\n      element.onerror = on_error;\n      element.async = false;\n      element.src = url;\n      element.type = \"module\";\n      console.debug(\"Bokeh: injecting script tag for BokehJS library: \", url);\n      document.head.appendChild(element);\n    }\n    for (const name in js_exports) {\n      const url = js_exports[name];\n      const escaped = encodeURI(url)\n      if (skip.indexOf(escaped) >= 0 || root[name] != null) {\n        if (!window.requirejs) {\n          on_load();\n        }\n        continue;\n      }\n      var element = document.createElement('script');\n      element.onerror = on_error;\n      element.async = false;\n      element.type = \"module\";\n      console.debug(\"Bokeh: injecting script tag for BokehJS library: \", url);\n      element.textContent = `\n      import ${name} from \"${url}\"\n      window.${name} = ${name}\n      window._bokeh_on_load()\n      `\n      document.head.appendChild(element);\n    }\n    if (!js_urls.length && !js_modules.length) {\n      on_load()\n    }\n  };\n\n  function inject_raw_css(css) {\n    const element = document.createElement(\"style\");\n    element.appendChild(document.createTextNode(css));\n    document.body.appendChild(element);\n  }\n\n  const js_urls = [\"https://cdn.holoviz.org/panel/1.7.5/dist/bundled/reactiveesm/es-module-shims@^1.10.0/dist/es-module-shims.min.js\", \"https://cdn.bokeh.org/bokeh/release/bokeh-3.7.3.min.js\", \"https://cdn.bokeh.org/bokeh/release/bokeh-gl-3.7.3.min.js\", \"https://cdn.bokeh.org/bokeh/release/bokeh-widgets-3.7.3.min.js\", \"https://cdn.bokeh.org/bokeh/release/bokeh-tables-3.7.3.min.js\", \"https://cdn.holoviz.org/panel/1.7.5/dist/panel.min.js\"];\n  const js_modules = [];\n  const js_exports = {};\n  const css_urls = [];\n  const inline_js = [    function(Bokeh) {\n      Bokeh.set_log_level(\"info\");\n    },\nfunction(Bokeh) {} // ensure no trailing comma for IE\n  ];\n\n  function run_inline_js() {\n    if ((root.Bokeh !== undefined) || (force === true)) {\n      for (let i = 0; i < inline_js.length; i++) {\n        try {\n          inline_js[i].call(root, root.Bokeh);\n        } catch(e) {\n          if (!reloading) {\n            throw e;\n          }\n        }\n      }\n      // Cache old bokeh versions\n      if (Bokeh != undefined && !reloading) {\n        var NewBokeh = root.Bokeh;\n        if (Bokeh.versions === undefined) {\n          Bokeh.versions = new Map();\n        }\n        if (NewBokeh.version !== Bokeh.version) {\n          Bokeh.versions.set(NewBokeh.version, NewBokeh)\n        }\n        root.Bokeh = Bokeh;\n      }\n    } else if (Date.now() < root._bokeh_timeout) {\n      setTimeout(run_inline_js, 100);\n    } else if (!root._bokeh_failed_load) {\n      console.log(\"Bokeh: BokehJS failed to load within specified timeout.\");\n      root._bokeh_failed_load = true;\n    }\n    root._bokeh_is_initializing = false\n  }\n\n  function load_or_wait() {\n    // Implement a backoff loop that tries to ensure we do not load multiple\n    // versions of Bokeh and its dependencies at the same time.\n    // In recent versions we use the root._bokeh_is_initializing flag\n    // to determine whether there is an ongoing attempt to initialize\n    // bokeh, however for backward compatibility we also try to ensure\n    // that we do not start loading a newer (Panel>=1.0 and Bokeh>3) version\n    // before older versions are fully initialized.\n    if (root._bokeh_is_initializing && Date.now() > root._bokeh_timeout) {\n      // If the timeout and bokeh was not successfully loaded we reset\n      // everything and try loading again\n      root._bokeh_timeout = Date.now() + 5000;\n      root._bokeh_is_initializing = false;\n      root._bokeh_onload_callbacks = undefined;\n      root._bokeh_is_loading = 0\n      console.log(\"Bokeh: BokehJS was loaded multiple times but one version failed to initialize.\");\n      load_or_wait();\n    } else if (root._bokeh_is_initializing || (typeof root._bokeh_is_initializing === \"undefined\" && root._bokeh_onload_callbacks !== undefined)) {\n      setTimeout(load_or_wait, 100);\n    } else {\n      root._bokeh_is_initializing = true\n      root._bokeh_onload_callbacks = []\n      const bokeh_loaded = root.Bokeh != null && (root.Bokeh.version === py_version || (root.Bokeh.versions !== undefined && root.Bokeh.versions.has(py_version)));\n      if (!reloading && !bokeh_loaded) {\n        if (root.Bokeh) {\n          root.Bokeh = undefined;\n        }\n        console.debug(\"Bokeh: BokehJS not loaded, scheduling load and callback at\", now());\n      }\n      load_libs(css_urls, js_urls, js_modules, js_exports, function() {\n        console.debug(\"Bokeh: BokehJS plotting callback run at\", now());\n        run_inline_js();\n      });\n    }\n  }\n  // Give older versions of the autoload script a head-start to ensure\n  // they initialize before we start loading newer version.\n  setTimeout(load_or_wait, 100)\n}(window));",
      "application/vnd.holoviews_load.v0+json": ""
     },
     "metadata": {},
     "output_type": "display_data"
    },
    {
     "data": {
      "application/javascript": "\nif ((window.PyViz === undefined) || (window.PyViz instanceof HTMLElement)) {\n  window.PyViz = {comms: {}, comm_status:{}, kernels:{}, receivers: {}, plot_index: []}\n}\n\n\n    function JupyterCommManager() {\n    }\n\n    JupyterCommManager.prototype.register_target = function(plot_id, comm_id, msg_handler) {\n      if (window.comm_manager || ((window.Jupyter !== undefined) && (Jupyter.notebook.kernel != null))) {\n        var comm_manager = window.comm_manager || Jupyter.notebook.kernel.comm_manager;\n        comm_manager.register_target(comm_id, function(comm) {\n          comm.on_msg(msg_handler);\n        });\n      } else if ((plot_id in window.PyViz.kernels) && (window.PyViz.kernels[plot_id])) {\n        window.PyViz.kernels[plot_id].registerCommTarget(comm_id, function(comm) {\n          comm.onMsg = msg_handler;\n        });\n      } else if (typeof google != 'undefined' && google.colab.kernel != null) {\n        google.colab.kernel.comms.registerTarget(comm_id, (comm) => {\n          var messages = comm.messages[Symbol.asyncIterator]();\n          function processIteratorResult(result) {\n            var message = result.value;\n            var content = {data: message.data, comm_id};\n            var buffers = []\n            for (var buffer of message.buffers || []) {\n              buffers.push(new DataView(buffer))\n            }\n            var metadata = message.metadata || {};\n            var msg = {content, buffers, metadata}\n            msg_handler(msg);\n            return messages.next().then(processIteratorResult);\n          }\n          return messages.next().then(processIteratorResult);\n        })\n      }\n    }\n\n    JupyterCommManager.prototype.get_client_comm = function(plot_id, comm_id, msg_handler) {\n      if (comm_id in window.PyViz.comms) {\n        return window.PyViz.comms[comm_id];\n      } else if (window.comm_manager || ((window.Jupyter !== undefined) && (Jupyter.notebook.kernel != null))) {\n        var comm_manager = window.comm_manager || Jupyter.notebook.kernel.comm_manager;\n        var comm = comm_manager.new_comm(comm_id, {}, {}, {}, comm_id);\n        if (msg_handler) {\n          comm.on_msg(msg_handler);\n        }\n      } else if ((plot_id in window.PyViz.kernels) && (window.PyViz.kernels[plot_id])) {\n        var comm = window.PyViz.kernels[plot_id].connectToComm(comm_id);\n        let retries = 0;\n        const open = () => {\n          if (comm.active) {\n            comm.open();\n          } else if (retries > 3) {\n            console.warn('Comm target never activated')\n          } else {\n            retries += 1\n            setTimeout(open, 500)\n          }\n        }\n        if (comm.active) {\n          comm.open();\n        } else {\n          setTimeout(open, 500)\n        }\n        if (msg_handler) {\n          comm.onMsg = msg_handler;\n        }\n      } else if (typeof google != 'undefined' && google.colab.kernel != null) {\n        var comm_promise = google.colab.kernel.comms.open(comm_id)\n        comm_promise.then((comm) => {\n          window.PyViz.comms[comm_id] = comm;\n          if (msg_handler) {\n            var messages = comm.messages[Symbol.asyncIterator]();\n            function processIteratorResult(result) {\n              var message = result.value;\n              var content = {data: message.data};\n              var metadata = message.metadata || {comm_id};\n              var msg = {content, metadata}\n              msg_handler(msg);\n              return messages.next().then(processIteratorResult);\n            }\n            return messages.next().then(processIteratorResult);\n          }\n        })\n        var sendClosure = (data, metadata, buffers, disposeOnDone) => {\n          return comm_promise.then((comm) => {\n            comm.send(data, metadata, buffers, disposeOnDone);\n          });\n        };\n        var comm = {\n          send: sendClosure\n        };\n      }\n      window.PyViz.comms[comm_id] = comm;\n      return comm;\n    }\n    window.PyViz.comm_manager = new JupyterCommManager();\n    \n\n\nvar JS_MIME_TYPE = 'application/javascript';\nvar HTML_MIME_TYPE = 'text/html';\nvar EXEC_MIME_TYPE = 'application/vnd.holoviews_exec.v0+json';\nvar CLASS_NAME = 'output';\n\n/**\n * Render data to the DOM node\n */\nfunction render(props, node) {\n  var div = document.createElement(\"div\");\n  var script = document.createElement(\"script\");\n  node.appendChild(div);\n  node.appendChild(script);\n}\n\n/**\n * Handle when a new output is added\n */\nfunction handle_add_output(event, handle) {\n  var output_area = handle.output_area;\n  var output = handle.output;\n  if ((output.data == undefined) || (!output.data.hasOwnProperty(EXEC_MIME_TYPE))) {\n    return\n  }\n  var id = output.metadata[EXEC_MIME_TYPE][\"id\"];\n  var toinsert = output_area.element.find(\".\" + CLASS_NAME.split(' ')[0]);\n  if (id !== undefined) {\n    var nchildren = toinsert.length;\n    var html_node = toinsert[nchildren-1].children[0];\n    html_node.innerHTML = output.data[HTML_MIME_TYPE];\n    var scripts = [];\n    var nodelist = html_node.querySelectorAll(\"script\");\n    for (var i in nodelist) {\n      if (nodelist.hasOwnProperty(i)) {\n        scripts.push(nodelist[i])\n      }\n    }\n\n    scripts.forEach( function (oldScript) {\n      var newScript = document.createElement(\"script\");\n      var attrs = [];\n      var nodemap = oldScript.attributes;\n      for (var j in nodemap) {\n        if (nodemap.hasOwnProperty(j)) {\n          attrs.push(nodemap[j])\n        }\n      }\n      attrs.forEach(function(attr) { newScript.setAttribute(attr.name, attr.value) });\n      newScript.appendChild(document.createTextNode(oldScript.innerHTML));\n      oldScript.parentNode.replaceChild(newScript, oldScript);\n    });\n    if (JS_MIME_TYPE in output.data) {\n      toinsert[nchildren-1].children[1].textContent = output.data[JS_MIME_TYPE];\n    }\n    output_area._hv_plot_id = id;\n    if ((window.Bokeh !== undefined) && (id in Bokeh.index)) {\n      window.PyViz.plot_index[id] = Bokeh.index[id];\n    } else {\n      window.PyViz.plot_index[id] = null;\n    }\n  } else if (output.metadata[EXEC_MIME_TYPE][\"server_id\"] !== undefined) {\n    var bk_div = document.createElement(\"div\");\n    bk_div.innerHTML = output.data[HTML_MIME_TYPE];\n    var script_attrs = bk_div.children[0].attributes;\n    for (var i = 0; i < script_attrs.length; i++) {\n      toinsert[toinsert.length - 1].childNodes[1].setAttribute(script_attrs[i].name, script_attrs[i].value);\n    }\n    // store reference to server id on output_area\n    output_area._bokeh_server_id = output.metadata[EXEC_MIME_TYPE][\"server_id\"];\n  }\n}\n\n/**\n * Handle when an output is cleared or removed\n */\nfunction handle_clear_output(event, handle) {\n  var id = handle.cell.output_area._hv_plot_id;\n  var server_id = handle.cell.output_area._bokeh_server_id;\n  if (((id === undefined) || !(id in PyViz.plot_index)) && (server_id !== undefined)) { return; }\n  var comm = window.PyViz.comm_manager.get_client_comm(\"hv-extension-comm\", \"hv-extension-comm\", function () {});\n  if (server_id !== null) {\n    comm.send({event_type: 'server_delete', 'id': server_id});\n    return;\n  } else if (comm !== null) {\n    comm.send({event_type: 'delete', 'id': id});\n  }\n  delete PyViz.plot_index[id];\n  if ((window.Bokeh !== undefined) & (id in window.Bokeh.index)) {\n    var doc = window.Bokeh.index[id].model.document\n    doc.clear();\n    const i = window.Bokeh.documents.indexOf(doc);\n    if (i > -1) {\n      window.Bokeh.documents.splice(i, 1);\n    }\n  }\n}\n\n/**\n * Handle kernel restart event\n */\nfunction handle_kernel_cleanup(event, handle) {\n  delete PyViz.comms[\"hv-extension-comm\"];\n  window.PyViz.plot_index = {}\n}\n\n/**\n * Handle update_display_data messages\n */\nfunction handle_update_output(event, handle) {\n  handle_clear_output(event, {cell: {output_area: handle.output_area}})\n  handle_add_output(event, handle)\n}\n\nfunction register_renderer(events, OutputArea) {\n  function append_mime(data, metadata, element) {\n    // create a DOM node to render to\n    var toinsert = this.create_output_subarea(\n    metadata,\n    CLASS_NAME,\n    EXEC_MIME_TYPE\n    );\n    this.keyboard_manager.register_events(toinsert);\n    // Render to node\n    var props = {data: data, metadata: metadata[EXEC_MIME_TYPE]};\n    render(props, toinsert[0]);\n    element.append(toinsert);\n    return toinsert\n  }\n\n  events.on('output_added.OutputArea', handle_add_output);\n  events.on('output_updated.OutputArea', handle_update_output);\n  events.on('clear_output.CodeCell', handle_clear_output);\n  events.on('delete.Cell', handle_clear_output);\n  events.on('kernel_ready.Kernel', handle_kernel_cleanup);\n\n  OutputArea.prototype.register_mime_type(EXEC_MIME_TYPE, append_mime, {\n    safe: true,\n    index: 0\n  });\n}\n\nif (window.Jupyter !== undefined) {\n  try {\n    var events = require('base/js/events');\n    var OutputArea = require('notebook/js/outputarea').OutputArea;\n    if (OutputArea.prototype.mime_types().indexOf(EXEC_MIME_TYPE) == -1) {\n      register_renderer(events, OutputArea);\n    }\n  } catch(err) {\n  }\n}\n",
      "application/vnd.holoviews_load.v0+json": ""
     },
     "metadata": {},
     "output_type": "display_data"
    },
    {
     "data": {
      "application/vnd.holoviews_exec.v0+json": "",
      "text/html": [
       "<div id='a7f9486d-8039-4720-b05e-fa65d4626525'>\n",
       "  <div id=\"e6753faf-539a-4f52-b25d-7ed432670a01\" data-root-id=\"a7f9486d-8039-4720-b05e-fa65d4626525\" style=\"display: contents;\"></div>\n",
       "</div>\n",
       "<script type=\"application/javascript\">(function(root) {\n",
       "  var docs_json = {\"4524ea57-e7fe-4052-a8c8-1a986ff8d035\":{\"version\":\"3.7.3\",\"title\":\"Bokeh Application\",\"roots\":[{\"type\":\"object\",\"name\":\"panel.models.browser.BrowserInfo\",\"id\":\"a7f9486d-8039-4720-b05e-fa65d4626525\"},{\"type\":\"object\",\"name\":\"panel.models.comm_manager.CommManager\",\"id\":\"9cf7683d-acb0-4469-85d1-212245b14cc7\",\"attributes\":{\"plot_id\":\"a7f9486d-8039-4720-b05e-fa65d4626525\",\"comm_id\":\"498165e40dc3413f831a4237e61221a6\",\"client_comm_id\":\"1cc5a3ab238f45af8bb2fba204a9b6b6\"}}],\"defs\":[{\"type\":\"model\",\"name\":\"ReactiveHTML1\"},{\"type\":\"model\",\"name\":\"FlexBox1\",\"properties\":[{\"name\":\"align_content\",\"kind\":\"Any\",\"default\":\"flex-start\"},{\"name\":\"align_items\",\"kind\":\"Any\",\"default\":\"flex-start\"},{\"name\":\"flex_direction\",\"kind\":\"Any\",\"default\":\"row\"},{\"name\":\"flex_wrap\",\"kind\":\"Any\",\"default\":\"wrap\"},{\"name\":\"gap\",\"kind\":\"Any\",\"default\":\"\"},{\"name\":\"justify_content\",\"kind\":\"Any\",\"default\":\"flex-start\"}]},{\"type\":\"model\",\"name\":\"FloatPanel1\",\"properties\":[{\"name\":\"config\",\"kind\":\"Any\",\"default\":{\"type\":\"map\"}},{\"name\":\"contained\",\"kind\":\"Any\",\"default\":true},{\"name\":\"position\",\"kind\":\"Any\",\"default\":\"right-top\"},{\"name\":\"offsetx\",\"kind\":\"Any\",\"default\":null},{\"name\":\"offsety\",\"kind\":\"Any\",\"default\":null},{\"name\":\"theme\",\"kind\":\"Any\",\"default\":\"primary\"},{\"name\":\"status\",\"kind\":\"Any\",\"default\":\"normalized\"}]},{\"type\":\"model\",\"name\":\"GridStack1\",\"properties\":[{\"name\":\"ncols\",\"kind\":\"Any\",\"default\":null},{\"name\":\"nrows\",\"kind\":\"Any\",\"default\":null},{\"name\":\"allow_resize\",\"kind\":\"Any\",\"default\":true},{\"name\":\"allow_drag\",\"kind\":\"Any\",\"default\":true},{\"name\":\"state\",\"kind\":\"Any\",\"default\":[]}]},{\"type\":\"model\",\"name\":\"drag1\",\"properties\":[{\"name\":\"slider_width\",\"kind\":\"Any\",\"default\":5},{\"name\":\"slider_color\",\"kind\":\"Any\",\"default\":\"black\"},{\"name\":\"value\",\"kind\":\"Any\",\"default\":50}]},{\"type\":\"model\",\"name\":\"click1\",\"properties\":[{\"name\":\"terminal_output\",\"kind\":\"Any\",\"default\":\"\"},{\"name\":\"debug_name\",\"kind\":\"Any\",\"default\":\"\"},{\"name\":\"clears\",\"kind\":\"Any\",\"default\":0}]},{\"type\":\"model\",\"name\":\"ReactiveESM1\",\"properties\":[{\"name\":\"esm_constants\",\"kind\":\"Any\",\"default\":{\"type\":\"map\"}}]},{\"type\":\"model\",\"name\":\"JSComponent1\",\"properties\":[{\"name\":\"esm_constants\",\"kind\":\"Any\",\"default\":{\"type\":\"map\"}}]},{\"type\":\"model\",\"name\":\"ReactComponent1\",\"properties\":[{\"name\":\"use_shadow_dom\",\"kind\":\"Any\",\"default\":true},{\"name\":\"esm_constants\",\"kind\":\"Any\",\"default\":{\"type\":\"map\"}}]},{\"type\":\"model\",\"name\":\"AnyWidgetComponent1\",\"properties\":[{\"name\":\"use_shadow_dom\",\"kind\":\"Any\",\"default\":true},{\"name\":\"esm_constants\",\"kind\":\"Any\",\"default\":{\"type\":\"map\"}}]},{\"type\":\"model\",\"name\":\"FastWrapper1\",\"properties\":[{\"name\":\"object\",\"kind\":\"Any\",\"default\":null},{\"name\":\"style\",\"kind\":\"Any\",\"default\":null}]},{\"type\":\"model\",\"name\":\"NotificationArea1\",\"properties\":[{\"name\":\"js_events\",\"kind\":\"Any\",\"default\":{\"type\":\"map\"}},{\"name\":\"max_notifications\",\"kind\":\"Any\",\"default\":5},{\"name\":\"notifications\",\"kind\":\"Any\",\"default\":[]},{\"name\":\"position\",\"kind\":\"Any\",\"default\":\"bottom-right\"},{\"name\":\"_clear\",\"kind\":\"Any\",\"default\":0},{\"name\":\"types\",\"kind\":\"Any\",\"default\":[{\"type\":\"map\",\"entries\":[[\"type\",\"warning\"],[\"background\",\"#ffc107\"],[\"icon\",{\"type\":\"map\",\"entries\":[[\"className\",\"fas fa-exclamation-triangle\"],[\"tagName\",\"i\"],[\"color\",\"white\"]]}]]},{\"type\":\"map\",\"entries\":[[\"type\",\"info\"],[\"background\",\"#007bff\"],[\"icon\",{\"type\":\"map\",\"entries\":[[\"className\",\"fas fa-info-circle\"],[\"tagName\",\"i\"],[\"color\",\"white\"]]}]]}]}]},{\"type\":\"model\",\"name\":\"Notification\",\"properties\":[{\"name\":\"background\",\"kind\":\"Any\",\"default\":null},{\"name\":\"duration\",\"kind\":\"Any\",\"default\":3000},{\"name\":\"icon\",\"kind\":\"Any\",\"default\":null},{\"name\":\"message\",\"kind\":\"Any\",\"default\":\"\"},{\"name\":\"notification_type\",\"kind\":\"Any\",\"default\":null},{\"name\":\"_rendered\",\"kind\":\"Any\",\"default\":false},{\"name\":\"_destroyed\",\"kind\":\"Any\",\"default\":false}]},{\"type\":\"model\",\"name\":\"TemplateActions1\",\"properties\":[{\"name\":\"open_modal\",\"kind\":\"Any\",\"default\":0},{\"name\":\"close_modal\",\"kind\":\"Any\",\"default\":0}]},{\"type\":\"model\",\"name\":\"BootstrapTemplateActions1\",\"properties\":[{\"name\":\"open_modal\",\"kind\":\"Any\",\"default\":0},{\"name\":\"close_modal\",\"kind\":\"Any\",\"default\":0}]},{\"type\":\"model\",\"name\":\"TemplateEditor1\",\"properties\":[{\"name\":\"layout\",\"kind\":\"Any\",\"default\":[]}]},{\"type\":\"model\",\"name\":\"MaterialTemplateActions1\",\"properties\":[{\"name\":\"open_modal\",\"kind\":\"Any\",\"default\":0},{\"name\":\"close_modal\",\"kind\":\"Any\",\"default\":0}]},{\"type\":\"model\",\"name\":\"request_value1\",\"properties\":[{\"name\":\"fill\",\"kind\":\"Any\",\"default\":\"none\"},{\"name\":\"_synced\",\"kind\":\"Any\",\"default\":null},{\"name\":\"_request_sync\",\"kind\":\"Any\",\"default\":0}]}]}};\n",
       "  var render_items = [{\"docid\":\"4524ea57-e7fe-4052-a8c8-1a986ff8d035\",\"roots\":{\"a7f9486d-8039-4720-b05e-fa65d4626525\":\"e6753faf-539a-4f52-b25d-7ed432670a01\"},\"root_ids\":[\"a7f9486d-8039-4720-b05e-fa65d4626525\"]}];\n",
       "  var docs = Object.values(docs_json)\n",
       "  if (!docs) {\n",
       "    return\n",
       "  }\n",
       "  const py_version = docs[0].version.replace('rc', '-rc.').replace('.dev', '-dev.')\n",
       "  async function embed_document(root) {\n",
       "    var Bokeh = get_bokeh(root)\n",
       "    await Bokeh.embed.embed_items_notebook(docs_json, render_items);\n",
       "    for (const render_item of render_items) {\n",
       "      for (const root_id of render_item.root_ids) {\n",
       "\tconst id_el = document.getElementById(root_id)\n",
       "\tif (id_el.children.length && id_el.children[0].hasAttribute('data-root-id')) {\n",
       "\t  const root_el = id_el.children[0]\n",
       "\t  root_el.id = root_el.id + '-rendered'\n",
       "\t  for (const child of root_el.children) {\n",
       "            // Ensure JupyterLab does not capture keyboard shortcuts\n",
       "            // see: https://jupyterlab.readthedocs.io/en/4.1.x/extension/notebook.html#keyboard-interaction-model\n",
       "\t    child.setAttribute('data-lm-suppress-shortcuts', 'true')\n",
       "\t  }\n",
       "\t}\n",
       "      }\n",
       "    }\n",
       "  }\n",
       "  function get_bokeh(root) {\n",
       "    if (root.Bokeh === undefined) {\n",
       "      return null\n",
       "    } else if (root.Bokeh.version !== py_version) {\n",
       "      if (root.Bokeh.versions === undefined || !root.Bokeh.versions.has(py_version)) {\n",
       "\treturn null\n",
       "      }\n",
       "      return root.Bokeh.versions.get(py_version);\n",
       "    } else if (root.Bokeh.version === py_version) {\n",
       "      return root.Bokeh\n",
       "    }\n",
       "    return null\n",
       "  }\n",
       "  function is_loaded(root) {\n",
       "    var Bokeh = get_bokeh(root)\n",
       "    return (Bokeh != null && Bokeh.Panel !== undefined)\n",
       "  }\n",
       "  if (is_loaded(root)) {\n",
       "    embed_document(root);\n",
       "  } else {\n",
       "    var attempts = 0;\n",
       "    var timer = setInterval(function(root) {\n",
       "      if (is_loaded(root)) {\n",
       "        clearInterval(timer);\n",
       "        embed_document(root);\n",
       "      } else if (document.readyState == \"complete\") {\n",
       "        attempts++;\n",
       "        if (attempts > 200) {\n",
       "          clearInterval(timer);\n",
       "\t  var Bokeh = get_bokeh(root)\n",
       "\t  if (Bokeh == null || Bokeh.Panel == null) {\n",
       "            console.warn(\"Panel: ERROR: Unable to run Panel code because Bokeh or Panel library is missing\");\n",
       "\t  } else {\n",
       "\t    console.warn(\"Panel: WARNING: Attempting to render but not all required libraries could be resolved.\")\n",
       "\t    embed_document(root)\n",
       "\t  }\n",
       "        }\n",
       "      }\n",
       "    }, 25, root)\n",
       "  }\n",
       "})(window);</script>"
      ]
     },
     "metadata": {
      "application/vnd.holoviews_exec.v0+json": {
       "id": "a7f9486d-8039-4720-b05e-fa65d4626525"
      }
     },
     "output_type": "display_data"
    }
   ],
   "source": [
    "import panel as pn\n",
    "pn.extension()"
   ]
  },
  {
   "cell_type": "code",
   "execution_count": null,
   "id": "4658335a",
   "metadata": {},
   "outputs": [],
   "source": [
    "df = pd.DataFrame({\n",
    "    \"Year\": [2018, 2019, 2020, 2021] * 2,\n",
    "    \"Automobile_Sales\": [100, 120, 90, 130, 80, 110, 70, 100],\n",
    "    \"Vehicle_Type\": [\"Car\", \"Car\", \"Car\", \"Car\", \"Truck\", \"Truck\", \"Truck\", \"Truck\"]\n",
    "})\n",
    "\n",
    "# Plot\n",
    "fig, ax = plt.subplots(figsize=(10, 6))\n",
    "sns.barplot(data=df, x=\"Year\", y=\"Automobile_Sales\", hue=\"Vehicle_Type\", errorbar=None, ax=ax)\n",
    "ax.set_title(\"Vehicle Sales Trends: Recession vs Non-Recession Periods\")\n",
    "plt.xticks(rotation=45)\n",
    "\n",
    "# Dashboard\n",
    "dashboard = pn.Column(\n",
    "    \"# Automobile Sales Statistics Dashboard\",\n",
    "    pn.pane.Matplotlib(fig, tight=True)\n",
    ")\n",
    "\n",
    "# Async serve function\n",
    "async def run_panel():\n",
    "    pn.serve(dashboard, port=8055, show=True)\n",
    "\n",
    "# Run without blocking notebook\n",
    "asyncio.get_event_loop().create_task(run_panel())"
   ]
  }
 ],
 "metadata": {
  "kernelspec": {
   "display_name": "Python 3",
   "language": "python",
   "name": "python3"
  },
  "language_info": {
   "codemirror_mode": {
    "name": "ipython",
    "version": 3
   },
   "file_extension": ".py",
   "mimetype": "text/x-python",
   "name": "python",
   "nbconvert_exporter": "python",
   "pygments_lexer": "ipython3",
   "version": "3.10.11"
  }
 },
 "nbformat": 4,
 "nbformat_minor": 5
}
